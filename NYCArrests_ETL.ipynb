{
 "cells": [
  {
   "cell_type": "code",
   "execution_count": 1,
   "metadata": {
    "scrolled": true
   },
   "outputs": [
    {
     "name": "stdout",
     "output_type": "stream",
     "text": [
      "Python ver: 3.6.7 (default, Feb 28 2019, 07:28:18) [MSC v.1900 64 bit (AMD64)]\n",
      "Python env: dsml\n",
      "Currrent dir: C:\\Users\\catch\\Documents\\GH_Projects\\NYC_data\n",
      "\n",
      "Path added to sys.path: C:\\Users\\catch\\Documents\\GH_Projects\\NYC_data\n"
     ]
    }
   ],
   "source": [
    "import os\n",
    "from dotenv import load_dotenv, find_dotenv\n",
    "\n",
    "from datetime import datetime\n",
    "from collections import OrderedDict, defaultdict\n",
    "\n",
    "import sys\n",
    "from pathlib import Path, PurePath as PPath\n",
    "\n",
    "print('Python ver: {}\\nPython env: {}'.format(sys.version, Path(sys.prefix).name))\n",
    "print('Currrent dir: {}\\n'.format(Path.cwd()))\n",
    "\n",
    "def add_to_sys_path(this_path, up=False):\n",
    "    \"\"\"\n",
    "    Prepend this_path to sys.path.\n",
    "    If up=True, path refers to parent folder (1 level up).\n",
    "    \"\"\"\n",
    "    if up:\n",
    "        # NB: Path does not have a str method.\n",
    "        newp = str(PPath(this_path).parent)\n",
    "    else:\n",
    "        newp = str(PPath(this_path)) \n",
    "    \n",
    "    if newp not in sys.path:\n",
    "        sys.path.insert(1, newp)\n",
    "        print('Path added to sys.path: {}'.format(newp))\n",
    "\n",
    "# if notebook inside another folder, eg ./notebooks:\n",
    "nb_folder = 'notebooks'\n",
    "add_to_sys_path(Path.cwd(), Path.cwd().name.startswith(nb_folder))\n",
    "\n",
    "\n",
    "def get_project_dirs(which=['data', 'images'], nb_folder='notebooks'):\n",
    "    dir_lst = []\n",
    "    if Path.cwd().name.startswith(nb_folder):\n",
    "        dir_fn = Path.cwd().parent.joinpath\n",
    "    else:\n",
    "        dir_fn = Path.cwd().joinpath\n",
    "        \n",
    "    for d in which:\n",
    "        DIR = dir_fn(d)\n",
    "        if not DIR.exists():\n",
    "            Path.mkdir(DIR)\n",
    "        dir_lst.append(DIR)\n",
    "    return dir_lst\n",
    "\n",
    "DIR_DATA, DIR_IMG = get_project_dirs()\n",
    "\n",
    "DATA_SHAPEFILES = DIR_DATA.joinpath('shapefiles')\n",
    "DATA_RAW = DIR_DATA.joinpath('raw')\n",
    "DATA_INTERIM = DIR_DATA.joinpath('intermediate')\n",
    "DATA_READY = DIR_DATA.joinpath('production')\n",
    "\n",
    "def data_subfolders():\n",
    "    ans = int(input('Setup data subfolders?  1=yes, 0=no: '))\n",
    "    if ans == 1:\n",
    "        for d in [DATA_RAW, DATA_INTERIM, DATA_READY, DATA_SHAPEFILES]:\n",
    "            if not d.exists():\n",
    "                Path.mkdir(d)\n",
    "                print(f'Created: {d}')\n",
    "                \n",
    "import numpy as np\n",
    "import scipy as sp\n",
    "from scipy import stats as sps\n",
    "import pandas as pd\n",
    "pd.set_option('display.max_columns', None)\n",
    "pd.set_option(\"display.max_colwidth\", 300)\n",
    "\n",
    "import json\n",
    "\n",
    "import matplotlib as mpl\n",
    "from matplotlib import pyplot as plt\n",
    "plt.ion()\n",
    "# color cycler too short (< weekdays) w/ seaborn \n",
    "plt.style.use(['tableau-colorblind10', 'fast'])\n",
    "\n",
    "from pprint import pprint as pp\n",
    "\n",
    "# Filtered dir() for method discovery:\n",
    "def filter_dir(obj, start_with_str='_', exclude=True):\n",
    "    return [d for d in dir(obj) if not d.startswith(start_with_str) == exclude]\n",
    "\n",
    "from IPython.core.interactiveshell import InteractiveShell\n",
    "InteractiveShell.ast_node_interactivity = \"all\"\n",
    "\n",
    "from IPython.display import display, Image, HTML, Markdown #, IFrame\n",
    "# for presentations:\n",
    "#display(HTML(\"<style>.container { width:100% !important; }</style>\"))\n",
    "\n",
    "Markdown( \"\"\"**First code cell from custom template `dsml.ipynb`**. \n",
    "_See Tim Paine's [jupyter_lab templates extention](https://github.com/timkpaine/jupyterlab_templates)._<br>\n",
    "\"\"\")\n",
    "\n",
    "def new_section(title='New section'):\n",
    "    style = \"text-align:center;background:#c2d3ef;padding:16px;color:#ffffff;font-size:2em;width:98%\"\n",
    "    return HTML('<div style=\"{}\">{}</div>'.format(style, title))\n",
    "\n",
    "\n",
    "def add_div(div_class='info', div_start='>', div_text='', output_string=True):\n",
    "    from IPython import get_ipython\n",
    "    from IPython.display import HTML, Markdown\n",
    "    \"\"\"\n",
    "    Behaviour with default `output_string=True`:\n",
    "    The cell is overwritten with the output string, but the cell mode is still in 'code' not 'markdown':\n",
    "    ```\n",
    "    In [x]\n",
    "    add_div('warning', 'Tip: ', 'some tip here', output_string=True)\n",
    "    In [x]\n",
    "    <div class=\"alert alert-warning\"><b>Tip: </b>some tip here</div>\n",
    "    ```\n",
    "    The only thing to do is change the cell mode to Markdown.\n",
    "    If `output_string=False`, the HTML output is displayed in an output cell.\n",
    "    \"\"\"\n",
    "    accepted = ['info', 'warning', 'danger']\n",
    "    \n",
    "    if div_class not in accepted:\n",
    "        return HTML(f\"\"\"<div class=\"alert\"><b>Wrong class:</b> `div_start` is one of {accepted}.\n",
    "                    </div>\"\"\")\n",
    "    \n",
    "    div = f\"\"\"<div class=\"alert alert-{div_class}\"><b>{div_start}</b>{div_text}</div>\"\"\"\n",
    "    if output_string:\n",
    "        return get_ipython().set_next_input(div, 'markdown')\n",
    "    else:\n",
    "        return Markdown(div) #HTML(div)\n",
    "\n",
    "    \n",
    "# autoreload extension\n",
    "from IPython import get_ipython\n",
    "ipython = get_ipython()\n",
    "\n",
    "if 'autoreload' not in ipython.extension_manager.loaded:\n",
    "    %load_ext autoreload\n",
    "\n",
    "%autoreload 2"
   ]
  },
  {
   "cell_type": "code",
   "execution_count": 4,
   "metadata": {},
   "outputs": [
    {
     "name": "stdin",
     "output_type": "stream",
     "text": [
      "Setup data subfolders?  1=yes, 0=no:  0\n"
     ]
    }
   ],
   "source": [
    "data_subfolders()"
   ]
  },
  {
   "cell_type": "markdown",
   "metadata": {},
   "source": [
    "---\n",
    "---\n",
    "# NYC OpenData - Arrests Dataset\n",
    "---"
   ]
  },
  {
   "cell_type": "markdown",
   "metadata": {},
   "source": [
    "# Import sodapy api and local etl util libraries, and credentials from `.env` file"
   ]
  },
  {
   "cell_type": "code",
   "execution_count": 2,
   "metadata": {},
   "outputs": [
    {
     "data": {
      "text/plain": [
       "True"
      ]
     },
     "execution_count": 2,
     "metadata": {},
     "output_type": "execute_result"
    }
   ],
   "source": [
    "import sodapy\n",
    "SODA_VER = '2.1'\n",
    "\n",
    "# local utils lib\n",
    "import etl\n",
    "from display_figure import display_figure\n",
    "\n",
    "# load variables from APIs user account(s):\n",
    "# find .env automagically by walking up directories until it's found\n",
    "dotenv_path = find_dotenv()\n",
    "\n",
    "if dotenv_path == '':\n",
    "    print(\"\"\"Local '.env' file not found:\\n\\tThe Socrata credential variables are set to None, \n",
    "    which may not be accepted.\\n\\tIf that's the case, create the file with the credentials as KEY=value on each line.\"\"\")\n",
    "else:\n",
    "    # load up the entries as environment variables\n",
    "    load_dotenv(dotenv_path)\n",
    "    \n",
    "    #GOOGLE_KEY = os.getenv(\"GOO_GEO_API_1\")\n",
    "    SODA_U = os.environ.get('SODA_U')\n",
    "    SODA_P = os.environ.get('SODA_P')\n",
    "    SODA_SECRET = os.environ.get('SODA_SECRET')\n",
    "    SODA_APP_TOKEN=os.environ.get('SODA_APP_TOKEN')"
   ]
  },
  {
   "cell_type": "markdown",
   "metadata": {},
   "source": [
    "## File naming convention: DatasetID_name.ext"
   ]
  },
  {
   "cell_type": "markdown",
   "metadata": {},
   "source": [
    "# Initialize sodapy.Socrata client for the NYC data domain:"
   ]
  },
  {
   "cell_type": "code",
   "execution_count": 3,
   "metadata": {},
   "outputs": [],
   "source": [
    "SODA_NYC = 'data.cityofnewyork.us'\n",
    "cli_NYC = sodapy.Socrata(SODA_NYC, SODA_APP_TOKEN, username=SODA_U, password=SODA_P)\n",
    "\n",
    "maxlim = 500_000\n",
    "ID_Arrests = '8h9b-rp9u'"
   ]
  },
  {
   "cell_type": "markdown",
   "metadata": {},
   "source": [
    "<div class=\"alert alert-info\"><b>Population data</b></div>"
   ]
  },
  {
   "cell_type": "markdown",
   "metadata": {},
   "source": [
    "# Population in the 2 precincts\n",
    "\n",
    "I used https://popfactfinder.planning.nyc.gov/#13.35/40.76876/-73.95531 and found out that the boundaries of precincts of interests are the same as that of the Community Districts.  \n",
    "\n",
    "Thus I retrieve the latest population counts (2010) from the Cit of New York dataset: \"City-Government/New-York-City-Population-By-Community-Districts\", with ID \"xi7c-iiu2\""
   ]
  },
  {
   "cell_type": "code",
   "execution_count": 4,
   "metadata": {},
   "outputs": [],
   "source": [
    "# pop by Community District (CD):\n",
    "\n",
    "ID_CD_pop = 'xi7c-iiu2'\n",
    "\n",
    "pops = DATA_RAW.joinpath(ID_CD_pop + '_CD_pop_2010.csv')"
   ]
  },
  {
   "cell_type": "raw",
   "metadata": {},
   "source": [
    "# cell mode is raw if done:\n",
    "\n",
    "qry1 = \"borough='Brooklyn' and cd_number='16'\"  # => Precinct 73\n",
    "CD16_pop = cli_NYC.get(ID_CD_pop, where=qry1, content_type='csv')\n",
    "\n",
    "qry2 = \"borough='Manhattan' and cd_number='8'\"  # => Precinct 19\n",
    "CD8_pop = cli_NYC.get(ID_CD_pop, where=qry2, content_type='csv')\n",
    "\n",
    "CD_pops = [CD8_pop[1], CD16_pop[1]]\n",
    "df_pop = pd.DataFrame(CD_pops)\n",
    "\n",
    "# keep 2010 pop only\n",
    "df_pop.drop(df_pop.columns[3:-1], axis=1, inplace=True)\n",
    "\n",
    "pop_cols = ['borough', 'cd_number', 'cd_name', 'pop_2010']\n",
    "df_pop.columns = pop_cols\n",
    "df_pop['pop_2010'] = df_pop['pop_2010'].astype(int)\n",
    "df_pop.to_csv(pops)\n",
    "del df_pop"
   ]
  },
  {
   "cell_type": "raw",
   "metadata": {},
   "source": [
    "df_pop = pd.read_csv(pops, index_col=0)\n",
    "df_pop"
   ]
  },
  {
   "cell_type": "markdown",
   "metadata": {},
   "source": [
    "<div class=\"alert alert-info\"><b>METADATA Analysis</b></div>"
   ]
  },
  {
   "cell_type": "code",
   "execution_count": 6,
   "metadata": {},
   "outputs": [],
   "source": [
    "ID_Arrests = '8h9b-rp9u'\n",
    "\n",
    "raw_meta = DATA_RAW.joinpath(ID_Arrests + '_Audit_medadata.json')\n",
    "raw_dataset = DATA_RAW.joinpath(ID_Arrests + '.csv')\n",
    "\n",
    "# 1st intermediate: Dropped: arrest_date:1->Y M D; ky_cd:4, ofns_desc:5-> redundant with pd_cd & pd_desc\n",
    "dataset1 = DATA_INTERIM.joinpath(ID_Arrests + '_1.csv')\n",
    "\n",
    "# 2nd interm: cleaned up to age_group\n",
    "dataset2 = DATA_INTERIM.joinpath(ID_Arrests + '_2.csv')\n",
    "\n",
    "\n",
    "# precinct/boro/max_lat min_lon dict as csv\n",
    "precinct_boro_geo = DATA_INTERIM.joinpath(ID_Arrests + '_precinct_boro_geo.csv')\n",
    "\n",
    "# cleaned:\n",
    "data_clean = DATA_READY.joinpath(ID_Arrests + '.csv')"
   ]
  },
  {
   "cell_type": "raw",
   "metadata": {},
   "source": [
    "# Get & save Metadata DONE:\n",
    "\n",
    "meta_Arrests = cli_NYC.get_metadata(ID_Arrests)\n",
    "etl.save_file(raw_meta, meta_Arrests)"
   ]
  },
  {
   "cell_type": "markdown",
   "metadata": {},
   "source": [
    "### Dataset Rows"
   ]
  },
  {
   "cell_type": "code",
   "execution_count": 7,
   "metadata": {},
   "outputs": [
    {
     "name": "stdout",
     "output_type": "stream",
     "text": [
      "Metadata info:\n",
      "NYPD Arrests Data (Historic) - Complete dataset rows: 4,798,339\n"
     ]
    }
   ],
   "source": [
    "# load from local json file:\n",
    "\n",
    "with open(raw_meta) as fh:\n",
    "    meta_Arrests = json.load(fh)\n",
    "\n",
    "# Dataset full name, Total row count (raw data):\n",
    "dataset_name = meta_Arrests['name']\n",
    "\n",
    "dataset_rows = etl.get_rows_from_metadata(meta_Arrests, ID_Arrests)\n",
    "\n",
    "print(f'Metadata info:\\n{dataset_name} - Complete dataset rows: {dataset_rows:,}')"
   ]
  },
  {
   "cell_type": "markdown",
   "metadata": {},
   "source": [
    "### Dataset colophon"
   ]
  },
  {
   "cell_type": "code",
   "execution_count": 8,
   "metadata": {},
   "outputs": [],
   "source": [
    "# This bit of info can be embedded in the final report:\n",
    "colophon = DATA_READY.joinpath(ID_Arrests + '_colophon.csv')"
   ]
  },
  {
   "cell_type": "raw",
   "metadata": {},
   "source": [
    "colophon_dict = etl.get_dataset_colophon(meta_Arrests, cli_NYC, SODA_VER, dataset_rows)\n",
    "co_keys = list(colophon_dict.keys())\n",
    "\n",
    "df_colo = pd.DataFrame(colophon_dict, index=co_keys)\n",
    "df_colo.drop(df_colo.index[1:], inplace=True)\n",
    "df_colo = df_colo.T\n",
    "df_colo.columns = ['Dataset info']\n",
    "\n",
    "df_colo.to_csv(colophon)"
   ]
  },
  {
   "cell_type": "code",
   "execution_count": 9,
   "metadata": {},
   "outputs": [
    {
     "data": {
      "text/html": [
       "<div>\n",
       "<style scoped>\n",
       "    .dataframe tbody tr th:only-of-type {\n",
       "        vertical-align: middle;\n",
       "    }\n",
       "\n",
       "    .dataframe tbody tr th {\n",
       "        vertical-align: top;\n",
       "    }\n",
       "\n",
       "    .dataframe thead th {\n",
       "        text-align: right;\n",
       "    }\n",
       "</style>\n",
       "<table border=\"1\" class=\"dataframe\">\n",
       "  <thead>\n",
       "    <tr style=\"text-align: right;\">\n",
       "      <th></th>\n",
       "      <th>Dataset info</th>\n",
       "    </tr>\n",
       "  </thead>\n",
       "  <tbody>\n",
       "    <tr>\n",
       "      <th>Dataset Name</th>\n",
       "      <td>NYPD Arrests Data (Historic)</td>\n",
       "    </tr>\n",
       "    <tr>\n",
       "      <th>Dataset Identifier</th>\n",
       "      <td>8h9b-rp9u</td>\n",
       "    </tr>\n",
       "    <tr>\n",
       "      <th>Total Rows</th>\n",
       "      <td>4,798,339</td>\n",
       "    </tr>\n",
       "    <tr>\n",
       "      <th>Source Domain</th>\n",
       "      <td>data.cityofnewyork.us</td>\n",
       "    </tr>\n",
       "    <tr>\n",
       "      <th>Created</th>\n",
       "      <td>2018-06-05 20:04:11</td>\n",
       "    </tr>\n",
       "    <tr>\n",
       "      <th>Last Updated</th>\n",
       "      <td>2019-05-16 18:08:26</td>\n",
       "    </tr>\n",
       "    <tr>\n",
       "      <th>Category</th>\n",
       "      <td>Public Safety</td>\n",
       "    </tr>\n",
       "    <tr>\n",
       "      <th>Attribution</th>\n",
       "      <td>Police Department (NYPD)</td>\n",
       "    </tr>\n",
       "    <tr>\n",
       "      <th>Owner</th>\n",
       "      <td>NYC OpenData</td>\n",
       "    </tr>\n",
       "    <tr>\n",
       "      <th>Endpoint Version</th>\n",
       "      <td>2.1</td>\n",
       "    </tr>\n",
       "  </tbody>\n",
       "</table>\n",
       "</div>"
      ],
      "text/plain": [
       "                                    Dataset info\n",
       "Dataset Name        NYPD Arrests Data (Historic)\n",
       "Dataset Identifier                     8h9b-rp9u\n",
       "Total Rows                             4,798,339\n",
       "Source Domain              data.cityofnewyork.us\n",
       "Created                      2018-06-05 20:04:11\n",
       "Last Updated                 2019-05-16 18:08:26\n",
       "Category                           Public Safety\n",
       "Attribution             Police Department (NYPD)\n",
       "Owner                               NYC OpenData\n",
       "Endpoint Version                             2.1"
      ]
     },
     "execution_count": 9,
     "metadata": {},
     "output_type": "execute_result"
    }
   ],
   "source": [
    "df_colo = pd.read_csv(colophon, index_col=0)\n",
    "df_colo"
   ]
  },
  {
   "cell_type": "markdown",
   "metadata": {},
   "source": [
    "### First glance at the overall data quality:"
   ]
  },
  {
   "cell_type": "code",
   "execution_count": 10,
   "metadata": {},
   "outputs": [
    {
     "data": {
      "text/markdown": [
       "#### Metadata info: Complete dataset time span in years (2006 to 2018): 12\n"
      ],
      "text/plain": [
       "<IPython.core.display.Markdown object>"
      ]
     },
     "execution_count": 10,
     "metadata": {},
     "output_type": "execute_result"
    },
    {
     "data": {
      "text/html": [
       "<div>\n",
       "<style scoped>\n",
       "    .dataframe tbody tr th:only-of-type {\n",
       "        vertical-align: middle;\n",
       "    }\n",
       "\n",
       "    .dataframe tbody tr th {\n",
       "        vertical-align: top;\n",
       "    }\n",
       "\n",
       "    .dataframe thead th {\n",
       "        text-align: right;\n",
       "    }\n",
       "</style>\n",
       "<table border=\"1\" class=\"dataframe\">\n",
       "  <thead>\n",
       "    <tr style=\"text-align: right;\">\n",
       "      <th></th>\n",
       "      <th>Largest</th>\n",
       "      <th>Smallest</th>\n",
       "      <th>Null</th>\n",
       "      <th>Not null</th>\n",
       "      <th>Null%</th>\n",
       "    </tr>\n",
       "  </thead>\n",
       "  <tbody>\n",
       "    <tr>\n",
       "      <th>ARREST_KEY</th>\n",
       "      <td>9961669</td>\n",
       "      <td>10003438</td>\n",
       "      <td>0</td>\n",
       "      <td>4798339</td>\n",
       "      <td>0.0</td>\n",
       "    </tr>\n",
       "    <tr>\n",
       "      <th>ARREST_DATE</th>\n",
       "      <td>2018-12-31T00:00:00.000</td>\n",
       "      <td>2006-01-01T00:00:00.000</td>\n",
       "      <td>0</td>\n",
       "      <td>4798339</td>\n",
       "      <td>0.0</td>\n",
       "    </tr>\n",
       "    <tr>\n",
       "      <th>PD_CD</th>\n",
       "      <td>997.0</td>\n",
       "      <td>0.0</td>\n",
       "      <td>220</td>\n",
       "      <td>4798119</td>\n",
       "      <td>0.0</td>\n",
       "    </tr>\n",
       "    <tr>\n",
       "      <th>PD_DESC</th>\n",
       "      <td>WOUNDS,REPORTING OF</td>\n",
       "      <td>A.B.C.,FALSE PROOF OF AGE</td>\n",
       "      <td>8870</td>\n",
       "      <td>4789469</td>\n",
       "      <td>0.2</td>\n",
       "    </tr>\n",
       "    <tr>\n",
       "      <th>KY_CD</th>\n",
       "      <td>995</td>\n",
       "      <td>101</td>\n",
       "      <td>8870</td>\n",
       "      <td>4789469</td>\n",
       "      <td>0.2</td>\n",
       "    </tr>\n",
       "    <tr>\n",
       "      <th>OFNS_DESC</th>\n",
       "      <td>VEHICLE AND TRAFFIC LAWS</td>\n",
       "      <td>ABORTION</td>\n",
       "      <td>8870</td>\n",
       "      <td>4789469</td>\n",
       "      <td>0.2</td>\n",
       "    </tr>\n",
       "    <tr>\n",
       "      <th>LAW_CODE</th>\n",
       "      <td>WC 0220001</td>\n",
       "      <td>ABC00000MA</td>\n",
       "      <td>196</td>\n",
       "      <td>4798143</td>\n",
       "      <td>0.0</td>\n",
       "    </tr>\n",
       "    <tr>\n",
       "      <th>LAW_CAT_CD</th>\n",
       "      <td>V</td>\n",
       "      <td>F</td>\n",
       "      <td>16103</td>\n",
       "      <td>4782236</td>\n",
       "      <td>0.3</td>\n",
       "    </tr>\n",
       "    <tr>\n",
       "      <th>ARREST_BORO</th>\n",
       "      <td>S</td>\n",
       "      <td>B</td>\n",
       "      <td>8</td>\n",
       "      <td>4798331</td>\n",
       "      <td>0.0</td>\n",
       "    </tr>\n",
       "    <tr>\n",
       "      <th>ARREST_PRECINCT</th>\n",
       "      <td>123</td>\n",
       "      <td>1</td>\n",
       "      <td>0</td>\n",
       "      <td>4798339</td>\n",
       "      <td>0.0</td>\n",
       "    </tr>\n",
       "    <tr>\n",
       "      <th>JURISDICTION_CODE</th>\n",
       "      <td>97</td>\n",
       "      <td>0</td>\n",
       "      <td>10</td>\n",
       "      <td>4798329</td>\n",
       "      <td>0.0</td>\n",
       "    </tr>\n",
       "    <tr>\n",
       "      <th>AGE_GROUP</th>\n",
       "      <td>UNKNOWN</td>\n",
       "      <td>1018</td>\n",
       "      <td>17</td>\n",
       "      <td>4798322</td>\n",
       "      <td>0.0</td>\n",
       "    </tr>\n",
       "    <tr>\n",
       "      <th>PERP_SEX</th>\n",
       "      <td>M</td>\n",
       "      <td>F</td>\n",
       "      <td>0</td>\n",
       "      <td>4798339</td>\n",
       "      <td>0.0</td>\n",
       "    </tr>\n",
       "    <tr>\n",
       "      <th>PERP_RACE</th>\n",
       "      <td>WHITE HISPANIC</td>\n",
       "      <td>AMERICAN INDIAN/ALASKAN NATIVE</td>\n",
       "      <td>0</td>\n",
       "      <td>4798339</td>\n",
       "      <td>0.0</td>\n",
       "    </tr>\n",
       "    <tr>\n",
       "      <th>X_COORD_CD</th>\n",
       "      <td>999999.0</td>\n",
       "      <td>1000001</td>\n",
       "      <td>1</td>\n",
       "      <td>4798338</td>\n",
       "      <td>0.0</td>\n",
       "    </tr>\n",
       "    <tr>\n",
       "      <th>Y_COORD_CD</th>\n",
       "      <td>8202360.0</td>\n",
       "      <td>1182953.0</td>\n",
       "      <td>1</td>\n",
       "      <td>4798338</td>\n",
       "      <td>0.0</td>\n",
       "    </tr>\n",
       "    <tr>\n",
       "      <th>Latitude</th>\n",
       "      <td>62.08307497800007</td>\n",
       "      <td>40.49890536300006</td>\n",
       "      <td>1</td>\n",
       "      <td>4798338</td>\n",
       "      <td>0.0</td>\n",
       "    </tr>\n",
       "    <tr>\n",
       "      <th>Longitude</th>\n",
       "      <td>-73.68178026799995</td>\n",
       "      <td>-74.25493873599999</td>\n",
       "      <td>1</td>\n",
       "      <td>4798338</td>\n",
       "      <td>0.0</td>\n",
       "    </tr>\n",
       "  </tbody>\n",
       "</table>\n",
       "</div>"
      ],
      "text/plain": [
       "                                    Largest                        Smallest  \\\n",
       "ARREST_KEY                          9961669                        10003438   \n",
       "ARREST_DATE         2018-12-31T00:00:00.000         2006-01-01T00:00:00.000   \n",
       "PD_CD                                 997.0                             0.0   \n",
       "PD_DESC                 WOUNDS,REPORTING OF       A.B.C.,FALSE PROOF OF AGE   \n",
       "KY_CD                                   995                             101   \n",
       "OFNS_DESC          VEHICLE AND TRAFFIC LAWS                        ABORTION   \n",
       "LAW_CODE                         WC 0220001                      ABC00000MA   \n",
       "LAW_CAT_CD                                V                               F   \n",
       "ARREST_BORO                               S                               B   \n",
       "ARREST_PRECINCT                         123                               1   \n",
       "JURISDICTION_CODE                        97                               0   \n",
       "AGE_GROUP                           UNKNOWN                            1018   \n",
       "PERP_SEX                                  M                               F   \n",
       "PERP_RACE                    WHITE HISPANIC  AMERICAN INDIAN/ALASKAN NATIVE   \n",
       "X_COORD_CD                         999999.0                         1000001   \n",
       "Y_COORD_CD                        8202360.0                       1182953.0   \n",
       "Latitude                  62.08307497800007               40.49890536300006   \n",
       "Longitude                -73.68178026799995              -74.25493873599999   \n",
       "\n",
       "                    Null  Not null  Null%  \n",
       "ARREST_KEY             0   4798339    0.0  \n",
       "ARREST_DATE            0   4798339    0.0  \n",
       "PD_CD                220   4798119    0.0  \n",
       "PD_DESC             8870   4789469    0.2  \n",
       "KY_CD               8870   4789469    0.2  \n",
       "OFNS_DESC           8870   4789469    0.2  \n",
       "LAW_CODE             196   4798143    0.0  \n",
       "LAW_CAT_CD         16103   4782236    0.3  \n",
       "ARREST_BORO            8   4798331    0.0  \n",
       "ARREST_PRECINCT        0   4798339    0.0  \n",
       "JURISDICTION_CODE     10   4798329    0.0  \n",
       "AGE_GROUP             17   4798322    0.0  \n",
       "PERP_SEX               0   4798339    0.0  \n",
       "PERP_RACE              0   4798339    0.0  \n",
       "X_COORD_CD             1   4798338    0.0  \n",
       "Y_COORD_CD             1   4798338    0.0  \n",
       "Latitude               1   4798338    0.0  \n",
       "Longitude              1   4798338    0.0  "
      ]
     },
     "execution_count": 10,
     "metadata": {},
     "output_type": "execute_result"
    }
   ],
   "source": [
    "metainfo_file = DATA_RAW.joinpath(ID_Arrests + '_Audit_metainfo.csv')\n",
    "\n",
    "# Already saved?\n",
    "if metainfo_file.exists():\n",
    "    nyc_meta_col_df = pd.read_csv(metainfo_file, index_col=0)\n",
    "else:\n",
    "    nyc_meta_col_df = etl.get_dataset_metainfo(meta_Arrests, ID_Arrests)\n",
    "    nyc_meta_col_df.to_csv(metainfo_file)\n",
    "\n",
    "# Time span:\n",
    "span = etl.get_dataset_span_from_meta(nyc_meta_col_df, 'ARREST_DATE')\n",
    "\n",
    "# Year list:\n",
    "years = [y for y in range(span[0], span[1]+1)]\n",
    "last4years = years[-4:]\n",
    "\n",
    "text = '#### Metadata info: Complete dataset time span in years ({} to {}): {}\\n'.format(span[0], span[1], span[1] - span[0])\n",
    "Markdown(text)\n",
    "\n",
    "nyc_meta_col_df"
   ]
  },
  {
   "cell_type": "markdown",
   "metadata": {},
   "source": [
    "<div class=\"alert alert-info\"><b>Complete dataset with split date: M and DoW</b></div>"
   ]
  },
  {
   "cell_type": "markdown",
   "metadata": {},
   "source": [
    "Dataset downloaded manually from:\n",
    "    https://data.cityofnewyork.us/Public-Safety/NYPD-Arrests-Data-Historic-/8h9b-rp9u/data - > 8h9b-rp9u_manual.csv (no transformed date fields)"
   ]
  },
  {
   "cell_type": "raw",
   "metadata": {},
   "source": [
    "qry = \"*, date_extract_y(ARREST_DATE) as Year,\"\n",
    "qry += \"date_extract_m(ARREST_DATE) as Month,\"\n",
    "qry += \"date_extract_dow(ARREST_DATE) as DoW \"\n",
    "\n",
    "arrests_ds = None\n",
    "arrests_ds = cli_NYC.get(ID_Arrests, select=qry, content_type='csv', limit=dataset_rows)\n",
    "len(arrests_ds) #4798340"
   ]
  },
  {
   "cell_type": "raw",
   "metadata": {},
   "source": [
    "# saved\n",
    "df = pd.DataFrame(arrests_ds)\n",
    "df.to_csv(raw_dataset)\n",
    "\n",
    "del df"
   ]
  },
  {
   "cell_type": "markdown",
   "metadata": {},
   "source": [
    "---\n",
    "# Cleaning\n",
    "#### First read:"
   ]
  },
  {
   "cell_type": "raw",
   "metadata": {},
   "source": [
    "df = pd.read_csv(raw_dataset, index_col=0, header=0)\n",
    "df.shape\n",
    "df.head(3)"
   ]
  },
  {
   "cell_type": "raw",
   "metadata": {},
   "source": [
    "cols = df.loc[0,:].values.tolist() \n",
    "\n",
    "df.columns = cols\n",
    "df.drop(df.index[0], inplace=True)\n",
    "\n",
    "# Drop: arrest_date:1->Y M D; ky_cd:4, ofns_desc:5-> redundant with pd_cd & pd_desc\n",
    "df.drop(columns=['arrest_date','ky_cd','ofns_desc'], axis=1, inplace=True)\n",
    "\n",
    "# refresh cols list:\n",
    "cols = df.columns.tolist()\n",
    "\n",
    "# save as 1st intermediate\n",
    "\n",
    "df.to_csv(dataset1)\n",
    "del df"
   ]
  },
  {
   "cell_type": "markdown",
   "metadata": {},
   "source": [
    "---\n",
    "#### Second read:"
   ]
  },
  {
   "cell_type": "raw",
   "metadata": {},
   "source": [
    "df1 = pd.read_csv(dataset1, index_col=0, header=0, na_values=[\"\"]) # add empty str to nan\n",
    "df1_types_dict = df1.dtypes.to_dict()\n",
    "df1_types_dict\n",
    "\n",
    "df1_info = df1.info(null_counts=True)"
   ]
  },
  {
   "cell_type": "raw",
   "metadata": {},
   "source": [
    "# check the odd floats: convert to int?\n",
    "\n",
    "uniq_pd_cd = df1.pd_cd.unique()\n",
    "uniq_pd_desc = df1.pd_desc.unique()\n",
    "uniq_juris_code = df1.jurisdiction_code.unique()\n",
    "\n",
    "# use law_code to impute pd_cd?\n",
    "uniq_law_code = df1.law_code.unique()"
   ]
  },
  {
   "cell_type": "markdown",
   "metadata": {},
   "source": [
    "#### check record w/ 'PL ' in law_code: Could be use for imputation of pd_code:"
   ]
  },
  {
   "cell_type": "raw",
   "metadata": {},
   "source": [
    "PL_law_msk = df1['law_code'] == 'PL 1701000' # => 170.10\tForgery in the second degree.\n",
    "n_PL_law_msk = df1[PL_law_msk].shape\n",
    "n_PL_law_msk  # (21,18)\n",
    "\n",
    "'FORGERY' in uniq_pd_desc  # = False ==> desc cannot be used"
   ]
  },
  {
   "cell_type": "markdown",
   "metadata": {},
   "source": [
    "#### check uncategorized records & determine if imputation is possible"
   ]
  },
  {
   "cell_type": "raw",
   "metadata": {},
   "source": [
    "uncat_msk = df1['pd_cd'].isna() | df1['law_code'].isna()\n",
    "\n",
    "na_pd_cd_lcode = df1[uncat_msk].shape\n",
    "na_pd_cd_lcode\n",
    "\n",
    "df1[uncat_msk]\n",
    "# (220, 18)"
   ]
  },
  {
   "cell_type": "markdown",
   "metadata": {},
   "source": [
    "#### Audit uncategorized arrests before deleting: Top3 precincts w/ uncategorized arrests: 14 (53), 103 (10) and 73 (6): 69 out of 220: over 31% "
   ]
  },
  {
   "cell_type": "raw",
   "metadata": {},
   "source": [
    "uncat_per_prec_gp = df1[uncat_msk].groupby('arrest_precinct')['arrest_key'].count().sort_values(ascending=False)[:3]\n",
    "uncat_per_prec_gp\n",
    "\n",
    "#arrest_precinct\n",
    "#14     53\n",
    "#103    10\n",
    "#73      6\n",
    "#Name: arrest_key, dtype: int64"
   ]
  },
  {
   "cell_type": "markdown",
   "metadata": {},
   "source": [
    "#### Delete uncategorized"
   ]
  },
  {
   "cell_type": "raw",
   "metadata": {},
   "source": [
    "df1.drop(df1[uncat_msk].index, inplace=True)\n",
    "df1.shape  \n",
    "# (4798119, 18)"
   ]
  },
  {
   "cell_type": "markdown",
   "metadata": {},
   "source": [
    "#### jurisdiction_code\n",
    "> Jurisdiction responsible for arrest. Jurisdiction codes 0(Patrol), 1(Transit) and 2(Housing) represent NYPD whilst codes 3 and more represent non NYPD jurisdictions"
   ]
  },
  {
   "cell_type": "raw",
   "metadata": {},
   "source": [
    "na_juris_code_msk = df1['jurisdiction_code'].isna()\n",
    "\n",
    "n_nan_juris_code = df1[na_juris_code_msk].shape\n",
    "n_nan_juris_code\n",
    "# (10, 18)"
   ]
  },
  {
   "cell_type": "markdown",
   "metadata": {},
   "source": [
    "#### Imputation: jurisdiction_code: 10 recs changed nan to 3:: outside nyc + type cast to int"
   ]
  },
  {
   "cell_type": "raw",
   "metadata": {},
   "source": [
    "df1.loc[na_juris_code_msk, 'jurisdiction_code'] = 3.\n",
    "df1['jurisdiction_code'] = df1['jurisdiction_code'].astype(np.uint8)\n",
    "df1['pd_cd'] = df1['pd_cd'].astype(np.uint8)\n",
    "\n",
    "#check:\n",
    "na_juris_code_msk = df1['jurisdiction_code'].isna()\n",
    "df1[na_juris_code_msk].shape\n",
    "# (0, 18)"
   ]
  },
  {
   "cell_type": "markdown",
   "metadata": {},
   "source": [
    "#### age groups"
   ]
  },
  {
   "cell_type": "raw",
   "metadata": {},
   "source": [
    "uniq_age_grp = df1.age_group.unique()\n",
    "uniq_age_grp\n",
    "\n",
    "vcount_age_grp = df1.age_group.value_counts(dropna=False)\n",
    "vcount_age_grp[:12]"
   ]
  },
  {
   "cell_type": "raw",
   "metadata": {},
   "source": [
    "df1[na_age_grp_msk]"
   ]
  },
  {
   "cell_type": "markdown",
   "metadata": {},
   "source": [
    "#### Replace NaN in age_group to UNKNOWN"
   ]
  },
  {
   "cell_type": "raw",
   "metadata": {},
   "source": [
    "df1.loc[df1[na_age_grp_msk].index, 'age_group'] = 'UNKNOWN'\n",
    "\n",
    "# recalc:\n",
    "vcount_age_grp = df1.age_group.value_counts(dropna=False)\n",
    "vcount_age_grp[:12]"
   ]
  },
  {
   "cell_type": "markdown",
   "metadata": {},
   "source": [
    "#### Valid vs invalid age_group: what info?"
   ]
  },
  {
   "cell_type": "raw",
   "metadata": {},
   "source": [
    "# below: TypeError: cannot compare a dtyped [object] array with a scalar of type [bool]\n",
    "valid_age_grp_msk = (df1['age_group'] == '<18' | df1['age_group'] == '18-24' | df1['age_group'] == '25-44' |\n",
    "                     df1['age_group'] == '45-64' | df1['age_group'] == '65+' | df1['age_group'] == 'UNKNOWN' )\n",
    "n_valid_age_grp = df1[valid_age_grp_msk].shape\n",
    "n_valid_age_grp"
   ]
  },
  {
   "cell_type": "markdown",
   "metadata": {},
   "source": [
    "#### Before trying regex next, save df1 -> df2 first"
   ]
  },
  {
   "cell_type": "raw",
   "metadata": {},
   "source": [
    "df1.to_csv(dataset2)"
   ]
  },
  {
   "cell_type": "raw",
   "metadata": {},
   "source": [
    "del df1\n",
    "del df1_types_dict"
   ]
  },
  {
   "cell_type": "raw",
   "metadata": {},
   "source": [
    "df2 = pd.read_csv(dataset2, index_col=0, header=0, na_values=[\"\"]) # add empty str to nan\n",
    "\n",
    "df2_types_dict = df2.dtypes.to_dict()\n",
    "df2_types_dict\n",
    "\n",
    "#df2_info = df2.info(null_counts=True)"
   ]
  },
  {
   "cell_type": "raw",
   "metadata": {},
   "source": [
    "df2.head(3)"
   ]
  },
  {
   "cell_type": "markdown",
   "metadata": {},
   "source": [
    "#### Obtain the invalid set by set difference on indices\n",
    "> **Index.difference(self, other, sort=None)**:  Return a new Index with elements from the index that are not in _other_.\n",
    "#### Imputation heuristics: impute most common age group to missing values if ratio (invalid / valid) < 5%."
   ]
  },
  {
   "cell_type": "raw",
   "metadata": {},
   "source": [
    "valid_age_grp_msk = df2['age_group'].str.contains(\"-|<|UNKNOWN|^65+\")  # it was fast!!\n",
    "n_valid_age_grp = df2[valid_age_grp_msk].shape\n",
    "n_valid_age_grp\n",
    "# (4797946, 19)\n",
    "\n",
    "idx_all = df2.index\n",
    "idx_valid = df2[valid_age_grp_msk].index\n",
    "\n",
    "idx_invalid = idx_all.difference(idx_valid)\n",
    "idx_invalid.shape\n",
    "\n",
    "# proportion invalid age_group:\n",
    "prop_invalid = idx_invalid.shape[0] / n_valid_age_grp[0]\n",
    "\n",
    "if prop_invalid < 0.05:\n",
    "    most_common_age_grp = vcount_age_grp.index[0]\n",
    "    \n",
    "    print(f'Proportion invalid age_group recs: {prop_invalid:.3%}\\n  imputing most common value = {most_common_age_grp}')\n",
    "    df2.loc[idx_invalid, 'age_group'] = most_common_age_grp\n",
    "else:\n",
    "    print(f'Proportion invalid age_group recs: {prop_invalid:.3%}')"
   ]
  },
  {
   "cell_type": "raw",
   "metadata": {},
   "source": [
    "# output:\n",
    "(4797946, 18)\n",
    "(173,)\n",
    "Proportion invalid age_group recs: 0.004%\n",
    "  imputing most common value = 25-44"
   ]
  },
  {
   "cell_type": "markdown",
   "metadata": {},
   "source": [
    "### Assign 8 missing arrest_boros with precinct boro"
   ]
  },
  {
   "cell_type": "raw",
   "metadata": {},
   "source": [
    "na_msk = df2['arrest_boro'].isna() # 'law_cat_cd' : 15907; 'arrest_boro':8; \n",
    "df2[na_msk].shape[0]\n",
    "\n",
    "df2[na_msk]"
   ]
  },
  {
   "cell_type": "raw",
   "metadata": {},
   "source": [
    "prec_boro_grp = df2.groupby(['arrest_boro', 'arrest_precinct']).aggregate({'longitude': 'min', 'latitude':'max'})\n",
    "prec_boro_grp.columns = ['min_lon', 'max_lat']"
   ]
  },
  {
   "cell_type": "raw",
   "metadata": {},
   "source": [
    "# flatten by adding boro col:\n",
    "midx = prec_boro_grp.index\n",
    "\n",
    "boro = 'arrest_boro'\n",
    "dflst = []\n",
    "for b in midx.levels[0]:\n",
    "    b_df = prec_boro_grp[midx.get_loc(b)].unstack(level=0)\n",
    "    b_df.columns = b_df.columns.droplevel(1)\n",
    "    b_df[boro] = [b for i in b_df.index]\n",
    "    dflst.append(b_df)\n",
    "\n",
    "boro_df = pd.concat(dflst)\n",
    "boro_df.reset_index(inplace=True)\n",
    "boro_df.set_index('arrest_precinct', inplace=True)\n",
    "cols = ['arrest_boro','min_lon','max_lat']\n",
    "boro_df = boro_df[cols]\n",
    "\n",
    "# Save as csv: highly reusable!\n",
    "boro_df.to_csv(precinct_boro_geo)\n",
    "\n",
    "boro_df.tail(3)\n",
    "\n",
    "# save as dict to update df2:\n",
    "boro_dict = boro_df.to_dict()\n",
    "\n",
    "# save sub dict for update:\n",
    "prec_to_boro = boro_dict['arrest_boro']\n",
    "\n",
    "df2.loc[df2[na_msk].index,'arrest_boro'] = df2[na_msk].loc[:,'arrest_precinct'].map(prec_to_boro)"
   ]
  },
  {
   "cell_type": "markdown",
   "metadata": {},
   "source": [
    "#### Save final"
   ]
  },
  {
   "cell_type": "raw",
   "metadata": {},
   "source": [
    "df2.to_csv(data_clean)\n",
    "del df2"
   ]
  },
  {
   "cell_type": "markdown",
   "metadata": {},
   "source": [
    "---\n",
    "---"
   ]
  },
  {
   "cell_type": "markdown",
   "metadata": {},
   "source": [
    "<div class=\"alert alert-info\"><b>Clean dataset</b></div>"
   ]
  },
  {
   "cell_type": "code",
   "execution_count": 61,
   "metadata": {},
   "outputs": [
    {
     "name": "stderr",
     "output_type": "stream",
     "text": [
      "C:\\Users\\catch\\Anaconda3\\envs\\dsml\\lib\\site-packages\\numpy\\lib\\arraysetops.py:568: FutureWarning: elementwise comparison failed; returning scalar instead, but in the future will perform elementwise comparison\n",
      "  mask |= (ar1 == a)\n"
     ]
    },
    {
     "data": {
      "text/html": [
       "<div>\n",
       "<style scoped>\n",
       "    .dataframe tbody tr th:only-of-type {\n",
       "        vertical-align: middle;\n",
       "    }\n",
       "\n",
       "    .dataframe tbody tr th {\n",
       "        vertical-align: top;\n",
       "    }\n",
       "\n",
       "    .dataframe thead th {\n",
       "        text-align: right;\n",
       "    }\n",
       "</style>\n",
       "<table border=\"1\" class=\"dataframe\">\n",
       "  <thead>\n",
       "    <tr style=\"text-align: right;\">\n",
       "      <th></th>\n",
       "      <th>arrest_key</th>\n",
       "      <th>pd_cd</th>\n",
       "      <th>pd_desc</th>\n",
       "      <th>law_code</th>\n",
       "      <th>law_cat_cd</th>\n",
       "      <th>arrest_boro</th>\n",
       "      <th>arrest_precinct</th>\n",
       "      <th>jurisdiction_code</th>\n",
       "      <th>age_group</th>\n",
       "      <th>perp_sex</th>\n",
       "      <th>perp_race</th>\n",
       "      <th>x_coord_cd</th>\n",
       "      <th>y_coord_cd</th>\n",
       "      <th>latitude</th>\n",
       "      <th>longitude</th>\n",
       "      <th>Year</th>\n",
       "      <th>Month</th>\n",
       "      <th>DoW</th>\n",
       "    </tr>\n",
       "  </thead>\n",
       "  <tbody>\n",
       "    <tr>\n",
       "      <th>1</th>\n",
       "      <td>173130602</td>\n",
       "      <td>54</td>\n",
       "      <td>MARIJUANA, POSSESSION</td>\n",
       "      <td>PL 2210500</td>\n",
       "      <td>V</td>\n",
       "      <td>Q</td>\n",
       "      <td>105</td>\n",
       "      <td>0</td>\n",
       "      <td>25-44</td>\n",
       "      <td>M</td>\n",
       "      <td>BLACK</td>\n",
       "      <td>1063056.0</td>\n",
       "      <td>207463.0</td>\n",
       "      <td>40.735772</td>\n",
       "      <td>-73.715638</td>\n",
       "      <td>2017</td>\n",
       "      <td>12</td>\n",
       "      <td>0</td>\n",
       "    </tr>\n",
       "    <tr>\n",
       "      <th>2</th>\n",
       "      <td>173114463</td>\n",
       "      <td>222</td>\n",
       "      <td>THEFT OF SERVICES, UNCLASSIFIED</td>\n",
       "      <td>PL 1651503</td>\n",
       "      <td>M</td>\n",
       "      <td>Q</td>\n",
       "      <td>114</td>\n",
       "      <td>0</td>\n",
       "      <td>25-44</td>\n",
       "      <td>M</td>\n",
       "      <td>ASIAN / PACIFIC ISLANDER</td>\n",
       "      <td>1009113.0</td>\n",
       "      <td>219613.0</td>\n",
       "      <td>40.769437</td>\n",
       "      <td>-73.910241</td>\n",
       "      <td>2017</td>\n",
       "      <td>12</td>\n",
       "      <td>0</td>\n",
       "    </tr>\n",
       "    <tr>\n",
       "      <th>3</th>\n",
       "      <td>173113513</td>\n",
       "      <td>81</td>\n",
       "      <td>NY STATE LAWS,UNCLASSIFIED VIOLATION</td>\n",
       "      <td>LOC000000V</td>\n",
       "      <td>V</td>\n",
       "      <td>K</td>\n",
       "      <td>73</td>\n",
       "      <td>1</td>\n",
       "      <td>18-24</td>\n",
       "      <td>M</td>\n",
       "      <td>BLACK</td>\n",
       "      <td>1010719.0</td>\n",
       "      <td>186857.0</td>\n",
       "      <td>40.679525</td>\n",
       "      <td>-73.904572</td>\n",
       "      <td>2017</td>\n",
       "      <td>12</td>\n",
       "      <td>0</td>\n",
       "    </tr>\n",
       "    <tr>\n",
       "      <th>4</th>\n",
       "      <td>173113423</td>\n",
       "      <td>101</td>\n",
       "      <td>ASSAULT 3</td>\n",
       "      <td>PL 1200001</td>\n",
       "      <td>M</td>\n",
       "      <td>M</td>\n",
       "      <td>18</td>\n",
       "      <td>0</td>\n",
       "      <td>25-44</td>\n",
       "      <td>M</td>\n",
       "      <td>WHITE</td>\n",
       "      <td>987831.0</td>\n",
       "      <td>217446.0</td>\n",
       "      <td>40.763523</td>\n",
       "      <td>-73.987074</td>\n",
       "      <td>2017</td>\n",
       "      <td>12</td>\n",
       "      <td>0</td>\n",
       "    </tr>\n",
       "    <tr>\n",
       "      <th>5</th>\n",
       "      <td>173113421</td>\n",
       "      <td>101</td>\n",
       "      <td>ASSAULT 3</td>\n",
       "      <td>PL 1200001</td>\n",
       "      <td>M</td>\n",
       "      <td>M</td>\n",
       "      <td>18</td>\n",
       "      <td>0</td>\n",
       "      <td>45-64</td>\n",
       "      <td>M</td>\n",
       "      <td>BLACK</td>\n",
       "      <td>987073.0</td>\n",
       "      <td>216078.0</td>\n",
       "      <td>40.759768</td>\n",
       "      <td>-73.989811</td>\n",
       "      <td>2017</td>\n",
       "      <td>12</td>\n",
       "      <td>0</td>\n",
       "    </tr>\n",
       "  </tbody>\n",
       "</table>\n",
       "</div>"
      ],
      "text/plain": [
       "   arrest_key  pd_cd                               pd_desc    law_code  \\\n",
       "1   173130602     54                 MARIJUANA, POSSESSION  PL 2210500   \n",
       "2   173114463    222       THEFT OF SERVICES, UNCLASSIFIED  PL 1651503   \n",
       "3   173113513     81  NY STATE LAWS,UNCLASSIFIED VIOLATION  LOC000000V   \n",
       "4   173113423    101                             ASSAULT 3  PL 1200001   \n",
       "5   173113421    101                             ASSAULT 3  PL 1200001   \n",
       "\n",
       "  law_cat_cd arrest_boro  arrest_precinct  jurisdiction_code age_group  \\\n",
       "1          V           Q              105                  0     25-44   \n",
       "2          M           Q              114                  0     25-44   \n",
       "3          V           K               73                  1     18-24   \n",
       "4          M           M               18                  0     25-44   \n",
       "5          M           M               18                  0     45-64   \n",
       "\n",
       "  perp_sex                 perp_race  x_coord_cd  y_coord_cd   latitude  \\\n",
       "1        M                     BLACK   1063056.0    207463.0  40.735772   \n",
       "2        M  ASIAN / PACIFIC ISLANDER   1009113.0    219613.0  40.769437   \n",
       "3        M                     BLACK   1010719.0    186857.0  40.679525   \n",
       "4        M                     WHITE    987831.0    217446.0  40.763523   \n",
       "5        M                     BLACK    987073.0    216078.0  40.759768   \n",
       "\n",
       "   longitude  Year  Month  DoW  \n",
       "1 -73.715638  2017     12    0  \n",
       "2 -73.910241  2017     12    0  \n",
       "3 -73.904572  2017     12    0  \n",
       "4 -73.987074  2017     12    0  \n",
       "5 -73.989811  2017     12    0  "
      ]
     },
     "execution_count": 61,
     "metadata": {},
     "output_type": "execute_result"
    }
   ],
   "source": [
    "# reopen\n",
    "\n",
    "data = pd.read_csv(data_clean, index_col=0)\n",
    "data_rows = data.shape[0]\n",
    "data.head()"
   ]
  },
  {
   "cell_type": "markdown",
   "metadata": {},
   "source": [
    "#### Unresolved issues (most important: no pd_desc)"
   ]
  },
  {
   "cell_type": "code",
   "execution_count": 490,
   "metadata": {},
   "outputs": [
    {
     "data": {
      "text/plain": [
       "8650"
      ]
     },
     "execution_count": 490,
     "metadata": {},
     "output_type": "execute_result"
    },
    {
     "data": {
      "text/plain": [
       "Year\n",
       "2006      12\n",
       "2007      14\n",
       "2008     135\n",
       "2009     249\n",
       "2010     634\n",
       "2011     720\n",
       "2012    1236\n",
       "2013    1146\n",
       "2014     940\n",
       "2015     970\n",
       "2016     931\n",
       "2017     807\n",
       "2018     856\n",
       "Name: arrest_key, dtype: int64"
      ]
     },
     "execution_count": 490,
     "metadata": {},
     "output_type": "execute_result"
    },
    {
     "data": {
      "text/plain": [
       "15907"
      ]
     },
     "execution_count": 490,
     "metadata": {},
     "output_type": "execute_result"
    }
   ],
   "source": [
    "na_cat_law_msk = data['law_cat_cd'].isna()\n",
    "n_na_cat_law = data[na_cat_law_msk].shape[0]\n",
    "print(f'Records without law_cat_cd: {n_na_cat_law:,}'')\n",
    "      \n",
    "na_pd_desc_mask = data['pd_desc'].isna()\n",
    "n_na_pd_desc = data[na_pd_desc_mask].shape[0]\n",
    "print(f'Records without pd_desc: {n_na_pd_desc:,}\\n\\tYearly counts:')\n",
    "\n",
    "data[na_pd_desc_mask].groupby('Year')['arrest_key'].count()"
   ]
  },
  {
   "cell_type": "code",
   "execution_count": 492,
   "metadata": {},
   "outputs": [
    {
     "data": {
      "text/markdown": [
       "<h2> Deleted rows: 220; clean data_rows: 4,798,119<br>There are still 8650 recs without pd_desc."
      ],
      "text/plain": [
       "<IPython.core.display.Markdown object>"
      ]
     },
     "execution_count": 492,
     "metadata": {},
     "output_type": "execute_result"
    }
   ],
   "source": [
    "Markdown(f'<h2> Deleted rows: {dataset_rows - data_rows}; clean data_rows: {data_rows:,}<br>There are still {n_na_pd_desc} recs without pd_desc.')"
   ]
  },
  {
   "cell_type": "markdown",
   "metadata": {},
   "source": [
    "---\n",
    "---"
   ]
  },
  {
   "cell_type": "markdown",
   "metadata": {},
   "source": [
    "<div class=\"alert alert-info\"><b>Arrests counts</b></div>"
   ]
  },
  {
   "cell_type": "code",
   "execution_count": 13,
   "metadata": {},
   "outputs": [],
   "source": [
    "in_YMD_15 = DATA_INTERIM.joinpath(ID_Arrests + '_2015_YMD.csv')\n",
    "in_YMD_16 = DATA_INTERIM.joinpath(ID_Arrests + '_2016_YMD.csv')\n",
    "in_YMD_17 = DATA_INTERIM.joinpath(ID_Arrests + '_2017_YMD.csv')\n",
    "in_YMD_18 = DATA_INTERIM.joinpath(ID_Arrests + '_2018_YMD.csv')\n",
    "\n",
    "in_YMD_counts = DATA_INTERIM.joinpath(ID_Arrests + '_all_YMD.csv')\n",
    "\n",
    "xtab_2015 = DATA_INTERIM.joinpath(ID_Arrests + '_2015_YMD_xtab.csv')\n",
    "xtab_2016 = DATA_INTERIM.joinpath(ID_Arrests + '_2016_YMD_xtab.csv')\n",
    "xtab_2017 = DATA_INTERIM.joinpath(ID_Arrests + '_2017_YMD_xtab.csv')\n",
    "xtab_2018 = DATA_INTERIM.joinpath(ID_Arrests + '_2018_YMD_xtab.csv')"
   ]
  },
  {
   "cell_type": "markdown",
   "metadata": {},
   "source": [
    "# Yearly counts:\n",
    "\n",
    "### No hour information in this dataset: datetimestamp field uses date only => hour = 0."
   ]
  },
  {
   "cell_type": "code",
   "execution_count": 421,
   "metadata": {},
   "outputs": [
    {
     "data": {
      "text/html": [
       "<div>\n",
       "<style scoped>\n",
       "    .dataframe tbody tr th:only-of-type {\n",
       "        vertical-align: middle;\n",
       "    }\n",
       "\n",
       "    .dataframe tbody tr th {\n",
       "        vertical-align: top;\n",
       "    }\n",
       "\n",
       "    .dataframe thead th {\n",
       "        text-align: right;\n",
       "    }\n",
       "</style>\n",
       "<table border=\"1\" class=\"dataframe\">\n",
       "  <thead>\n",
       "    <tr style=\"text-align: right;\">\n",
       "      <th></th>\n",
       "      <th>Year</th>\n",
       "      <th>Total</th>\n",
       "    </tr>\n",
       "  </thead>\n",
       "  <tbody>\n",
       "    <tr>\n",
       "      <th>0</th>\n",
       "      <td>2006</td>\n",
       "      <td>371872</td>\n",
       "    </tr>\n",
       "    <tr>\n",
       "      <th>1</th>\n",
       "      <td>2007</td>\n",
       "      <td>403192</td>\n",
       "    </tr>\n",
       "    <tr>\n",
       "      <th>2</th>\n",
       "      <td>2008</td>\n",
       "      <td>401507</td>\n",
       "    </tr>\n",
       "    <tr>\n",
       "      <th>3</th>\n",
       "      <td>2009</td>\n",
       "      <td>421307</td>\n",
       "    </tr>\n",
       "    <tr>\n",
       "      <th>4</th>\n",
       "      <td>2010</td>\n",
       "      <td>422315</td>\n",
       "    </tr>\n",
       "    <tr>\n",
       "      <th>5</th>\n",
       "      <td>2011</td>\n",
       "      <td>412851</td>\n",
       "    </tr>\n",
       "    <tr>\n",
       "      <th>6</th>\n",
       "      <td>2012</td>\n",
       "      <td>396276</td>\n",
       "    </tr>\n",
       "    <tr>\n",
       "      <th>7</th>\n",
       "      <td>2013</td>\n",
       "      <td>393809</td>\n",
       "    </tr>\n",
       "    <tr>\n",
       "      <th>8</th>\n",
       "      <td>2014</td>\n",
       "      <td>387727</td>\n",
       "    </tr>\n",
       "    <tr>\n",
       "      <th>9</th>\n",
       "      <td>2015</td>\n",
       "      <td>339470</td>\n",
       "    </tr>\n",
       "    <tr>\n",
       "      <th>10</th>\n",
       "      <td>2016</td>\n",
       "      <td>314864</td>\n",
       "    </tr>\n",
       "    <tr>\n",
       "      <th>11</th>\n",
       "      <td>2017</td>\n",
       "      <td>286225</td>\n",
       "    </tr>\n",
       "    <tr>\n",
       "      <th>12</th>\n",
       "      <td>2018</td>\n",
       "      <td>246704</td>\n",
       "    </tr>\n",
       "  </tbody>\n",
       "</table>\n",
       "</div>"
      ],
      "text/plain": [
       "    Year   Total\n",
       "0   2006  371872\n",
       "1   2007  403192\n",
       "2   2008  401507\n",
       "3   2009  421307\n",
       "4   2010  422315\n",
       "5   2011  412851\n",
       "6   2012  396276\n",
       "7   2013  393809\n",
       "8   2014  387727\n",
       "9   2015  339470\n",
       "10  2016  314864\n",
       "11  2017  286225\n",
       "12  2018  246704"
      ]
     },
     "execution_count": 421,
     "metadata": {},
     "output_type": "execute_result"
    }
   ],
   "source": [
    "#df_all_counts = etl.get_period_yearly_count(data, years, local_file=in_YMD_counts, replace=True)\n",
    "df_all_counts = etl.load_xtab_df(in_YMD_counts,)\n",
    "df_all_counts"
   ]
  },
  {
   "cell_type": "code",
   "execution_count": 428,
   "metadata": {},
   "outputs": [
    {
     "data": {
      "text/plain": [
       "-0.3015169957864169"
      ]
     },
     "execution_count": 428,
     "metadata": {},
     "output_type": "execute_result"
    }
   ],
   "source": [
    "((df_all_counts.loc[12,'Total'] - df_all_counts.loc[11, 'Total'])/df_all_counts.loc[11,'Total'] +\n",
    "(df_all_counts.loc[11,'Total'] - df_all_counts.loc[10, 'Total'])/df_all_counts.loc[10,'Total'] +\n",
    "(df_all_counts.loc[10,'Total'] - df_all_counts.loc[9, 'Total'])/df_all_counts.loc[9,'Total'] ).mean()"
   ]
  },
  {
   "cell_type": "code",
   "execution_count": 429,
   "metadata": {},
   "outputs": [
    {
     "data": {
      "text/plain": [
       "-0.1380766879203424"
      ]
     },
     "execution_count": 429,
     "metadata": {},
     "output_type": "execute_result"
    },
    {
     "data": {
      "text/plain": [
       "-0.09095673052492505"
      ]
     },
     "execution_count": 429,
     "metadata": {},
     "output_type": "execute_result"
    },
    {
     "data": {
      "text/plain": [
       "-0.07248357734114944"
      ]
     },
     "execution_count": 429,
     "metadata": {},
     "output_type": "execute_result"
    }
   ],
   "source": [
    "(df_all_counts.loc[12,'Total'] - df_all_counts.loc[11, 'Total'])/df_all_counts.loc[11,'Total']\n",
    "(df_all_counts.loc[11,'Total'] - df_all_counts.loc[10, 'Total'])/df_all_counts.loc[10,'Total']\n",
    "(df_all_counts.loc[10,'Total'] - df_all_counts.loc[9, 'Total'])/df_all_counts.loc[9,'Total']"
   ]
  },
  {
   "cell_type": "raw",
   "metadata": {},
   "source": [
    "for year in last4years:\n",
    "    out_fname = DATA_INTERIM.joinpath(ID_Arrests + f'_{year}_YMD.csv')\n",
    "    etl.get_yearly_count_YMD(data, year, local_file=out_fname, replace=True)"
   ]
  },
  {
   "cell_type": "raw",
   "metadata": {},
   "source": [
    "for year in last4years:\n",
    "    # create xtab & save to csv:\n",
    "    in_fname = DATA_INTERIM.joinpath(ID_Arrests + f'_{year}_YMD.csv')\n",
    "    xt_fname = DATA_INTERIM.joinpath(ID_Arrests + f'_{year}_YMD_xtab.csv')\n",
    "    \n",
    "    replace_xtab = True\n",
    "    etl.make_xtab(in_fname, xt_fname, replace=replace_xtab)"
   ]
  },
  {
   "cell_type": "raw",
   "metadata": {},
   "source": [
    "#for saving styled xtab to xl in order to have 4 tbls together -> pic:\n",
    "for year in last4years:\n",
    "    \n",
    "    xt_fname = DATA_INTERIM.joinpath(ID_Arrests + f'_{year}_YMD_xtab.csv')\n",
    "    xltab = DATA_INTERIM.joinpath(ID_Arrests + f'_{year}_xltab.xlsx')\n",
    "\n",
    "    df = etl.load_xtab_df(xt_fname, colindex_name='Month')\n",
    "    df_styled = etl.highlights_styled(df)\n",
    "    df_styled.to_excel(xltab)"
   ]
  },
  {
   "cell_type": "code",
   "execution_count": 14,
   "metadata": {},
   "outputs": [
    {
     "data": {
      "text/markdown": [
       "<h3>Total number of arrests per day and month in 2015</h3>(Monthly min: green, max: orange.)"
      ],
      "text/plain": [
       "<IPython.core.display.Markdown object>"
      ]
     },
     "execution_count": 14,
     "metadata": {},
     "output_type": "execute_result"
    },
    {
     "data": {
      "text/html": [
       "<style  type=\"text/css\" >\n",
       "    #T_adbef41c_5b03_11ea_9187_00155d01c50crow0_col0 {\n",
       "            : ;\n",
       "            background-color:  #98fb98;\n",
       "        }    #T_adbef41c_5b03_11ea_9187_00155d01c50crow0_col2 {\n",
       "            : ;\n",
       "            background-color:  #98fb98;\n",
       "        }    #T_adbef41c_5b03_11ea_9187_00155d01c50crow0_col3 {\n",
       "            : ;\n",
       "            background-color:  #98fb98;\n",
       "        }    #T_adbef41c_5b03_11ea_9187_00155d01c50crow0_col5 {\n",
       "            : ;\n",
       "            background-color:  #98fb98;\n",
       "        }    #T_adbef41c_5b03_11ea_9187_00155d01c50crow0_col6 {\n",
       "            : ;\n",
       "            background-color:  #98fb98;\n",
       "        }    #T_adbef41c_5b03_11ea_9187_00155d01c50crow0_col7 {\n",
       "            : ;\n",
       "            background-color:  #98fb98;\n",
       "        }    #T_adbef41c_5b03_11ea_9187_00155d01c50crow0_col8 {\n",
       "            : ;\n",
       "            background-color:  #98fb98;\n",
       "        }    #T_adbef41c_5b03_11ea_9187_00155d01c50crow0_col9 {\n",
       "            : ;\n",
       "            background-color:  #98fb98;\n",
       "        }    #T_adbef41c_5b03_11ea_9187_00155d01c50crow0_col10 {\n",
       "            : ;\n",
       "            background-color:  #98fb98;\n",
       "        }    #T_adbef41c_5b03_11ea_9187_00155d01c50crow0_col11 {\n",
       "            : ;\n",
       "            background-color:  #98fb98;\n",
       "        }    #T_adbef41c_5b03_11ea_9187_00155d01c50crow1_col1 {\n",
       "            : ;\n",
       "            background-color:  #98fb98;\n",
       "        }    #T_adbef41c_5b03_11ea_9187_00155d01c50crow1_col4 {\n",
       "            : ;\n",
       "            background-color:  #98fb98;\n",
       "        }    #T_adbef41c_5b03_11ea_9187_00155d01c50crow2_col2 {\n",
       "            background-color:  orange;\n",
       "            : ;\n",
       "        }    #T_adbef41c_5b03_11ea_9187_00155d01c50crow2_col5 {\n",
       "            background-color:  orange;\n",
       "            : ;\n",
       "        }    #T_adbef41c_5b03_11ea_9187_00155d01c50crow2_col11 {\n",
       "            background-color:  orange;\n",
       "            : ;\n",
       "        }    #T_adbef41c_5b03_11ea_9187_00155d01c50crow3_col1 {\n",
       "            background-color:  orange;\n",
       "            : ;\n",
       "        }    #T_adbef41c_5b03_11ea_9187_00155d01c50crow3_col3 {\n",
       "            background-color:  orange;\n",
       "            : ;\n",
       "        }    #T_adbef41c_5b03_11ea_9187_00155d01c50crow3_col6 {\n",
       "            background-color:  orange;\n",
       "            : ;\n",
       "        }    #T_adbef41c_5b03_11ea_9187_00155d01c50crow3_col7 {\n",
       "            background-color:  orange;\n",
       "            : ;\n",
       "        }    #T_adbef41c_5b03_11ea_9187_00155d01c50crow3_col8 {\n",
       "            background-color:  orange;\n",
       "            : ;\n",
       "        }    #T_adbef41c_5b03_11ea_9187_00155d01c50crow3_col10 {\n",
       "            background-color:  orange;\n",
       "            : ;\n",
       "        }    #T_adbef41c_5b03_11ea_9187_00155d01c50crow4_col0 {\n",
       "            background-color:  orange;\n",
       "            : ;\n",
       "        }    #T_adbef41c_5b03_11ea_9187_00155d01c50crow4_col9 {\n",
       "            background-color:  orange;\n",
       "            : ;\n",
       "        }    #T_adbef41c_5b03_11ea_9187_00155d01c50crow5_col4 {\n",
       "            background-color:  orange;\n",
       "            : ;\n",
       "        }</style><table id=\"T_adbef41c_5b03_11ea_9187_00155d01c50c\" ><thead>    <tr>        <th class=\"index_name level0\" >Month</th>        <th class=\"col_heading level0 col0\" >1</th>        <th class=\"col_heading level0 col1\" >2</th>        <th class=\"col_heading level0 col2\" >3</th>        <th class=\"col_heading level0 col3\" >4</th>        <th class=\"col_heading level0 col4\" >5</th>        <th class=\"col_heading level0 col5\" >6</th>        <th class=\"col_heading level0 col6\" >7</th>        <th class=\"col_heading level0 col7\" >8</th>        <th class=\"col_heading level0 col8\" >9</th>        <th class=\"col_heading level0 col9\" >10</th>        <th class=\"col_heading level0 col10\" >11</th>        <th class=\"col_heading level0 col11\" >12</th>    </tr>    <tr>        <th class=\"index_name level0\" >Day</th>        <th class=\"blank\" ></th>        <th class=\"blank\" ></th>        <th class=\"blank\" ></th>        <th class=\"blank\" ></th>        <th class=\"blank\" ></th>        <th class=\"blank\" ></th>        <th class=\"blank\" ></th>        <th class=\"blank\" ></th>        <th class=\"blank\" ></th>        <th class=\"blank\" ></th>        <th class=\"blank\" ></th>        <th class=\"blank\" ></th>    </tr></thead><tbody>\n",
       "                <tr>\n",
       "                        <th id=\"T_adbef41c_5b03_11ea_9187_00155d01c50clevel0_row0\" class=\"row_heading level0 row0\" >Sun</th>\n",
       "                        <td id=\"T_adbef41c_5b03_11ea_9187_00155d01c50crow0_col0\" class=\"data row0 col0\" >2032</td>\n",
       "                        <td id=\"T_adbef41c_5b03_11ea_9187_00155d01c50crow0_col1\" class=\"data row0 col1\" >2620</td>\n",
       "                        <td id=\"T_adbef41c_5b03_11ea_9187_00155d01c50crow0_col2\" class=\"data row0 col2\" >3505</td>\n",
       "                        <td id=\"T_adbef41c_5b03_11ea_9187_00155d01c50crow0_col3\" class=\"data row0 col3\" >2592</td>\n",
       "                        <td id=\"T_adbef41c_5b03_11ea_9187_00155d01c50crow0_col4\" class=\"data row0 col4\" >3293</td>\n",
       "                        <td id=\"T_adbef41c_5b03_11ea_9187_00155d01c50crow0_col5\" class=\"data row0 col5\" >2795</td>\n",
       "                        <td id=\"T_adbef41c_5b03_11ea_9187_00155d01c50crow0_col6\" class=\"data row0 col6\" >2946</td>\n",
       "                        <td id=\"T_adbef41c_5b03_11ea_9187_00155d01c50crow0_col7\" class=\"data row0 col7\" >3713</td>\n",
       "                        <td id=\"T_adbef41c_5b03_11ea_9187_00155d01c50crow0_col8\" class=\"data row0 col8\" >2739</td>\n",
       "                        <td id=\"T_adbef41c_5b03_11ea_9187_00155d01c50crow0_col9\" class=\"data row0 col9\" >2692</td>\n",
       "                        <td id=\"T_adbef41c_5b03_11ea_9187_00155d01c50crow0_col10\" class=\"data row0 col10\" >3097</td>\n",
       "                        <td id=\"T_adbef41c_5b03_11ea_9187_00155d01c50crow0_col11\" class=\"data row0 col11\" >2410</td>\n",
       "            </tr>\n",
       "            <tr>\n",
       "                        <th id=\"T_adbef41c_5b03_11ea_9187_00155d01c50clevel0_row1\" class=\"row_heading level0 row1\" >Mon</th>\n",
       "                        <td id=\"T_adbef41c_5b03_11ea_9187_00155d01c50crow1_col0\" class=\"data row1 col0\" >2152</td>\n",
       "                        <td id=\"T_adbef41c_5b03_11ea_9187_00155d01c50crow1_col1\" class=\"data row1 col1\" >2499</td>\n",
       "                        <td id=\"T_adbef41c_5b03_11ea_9187_00155d01c50crow1_col2\" class=\"data row1 col2\" >3919</td>\n",
       "                        <td id=\"T_adbef41c_5b03_11ea_9187_00155d01c50crow1_col3\" class=\"data row1 col3\" >3051</td>\n",
       "                        <td id=\"T_adbef41c_5b03_11ea_9187_00155d01c50crow1_col4\" class=\"data row1 col4\" >2824</td>\n",
       "                        <td id=\"T_adbef41c_5b03_11ea_9187_00155d01c50crow1_col5\" class=\"data row1 col5\" >3663</td>\n",
       "                        <td id=\"T_adbef41c_5b03_11ea_9187_00155d01c50crow1_col6\" class=\"data row1 col6\" >3003</td>\n",
       "                        <td id=\"T_adbef41c_5b03_11ea_9187_00155d01c50crow1_col7\" class=\"data row1 col7\" >3803</td>\n",
       "                        <td id=\"T_adbef41c_5b03_11ea_9187_00155d01c50crow1_col8\" class=\"data row1 col8\" >2823</td>\n",
       "                        <td id=\"T_adbef41c_5b03_11ea_9187_00155d01c50crow1_col9\" class=\"data row1 col9\" >3029</td>\n",
       "                        <td id=\"T_adbef41c_5b03_11ea_9187_00155d01c50crow1_col10\" class=\"data row1 col10\" >3616</td>\n",
       "                        <td id=\"T_adbef41c_5b03_11ea_9187_00155d01c50crow1_col11\" class=\"data row1 col11\" >2794</td>\n",
       "            </tr>\n",
       "            <tr>\n",
       "                        <th id=\"T_adbef41c_5b03_11ea_9187_00155d01c50clevel0_row2\" class=\"row_heading level0 row2\" >Tue</th>\n",
       "                        <td id=\"T_adbef41c_5b03_11ea_9187_00155d01c50crow2_col0\" class=\"data row2 col0\" >3416</td>\n",
       "                        <td id=\"T_adbef41c_5b03_11ea_9187_00155d01c50crow2_col1\" class=\"data row2 col1\" >4171</td>\n",
       "                        <td id=\"T_adbef41c_5b03_11ea_9187_00155d01c50crow2_col2\" class=\"data row2 col2\" >4967</td>\n",
       "                        <td id=\"T_adbef41c_5b03_11ea_9187_00155d01c50crow2_col3\" class=\"data row2 col3\" >4460</td>\n",
       "                        <td id=\"T_adbef41c_5b03_11ea_9187_00155d01c50crow2_col4\" class=\"data row2 col4\" >4168</td>\n",
       "                        <td id=\"T_adbef41c_5b03_11ea_9187_00155d01c50crow2_col5\" class=\"data row2 col5\" >5079</td>\n",
       "                        <td id=\"T_adbef41c_5b03_11ea_9187_00155d01c50crow2_col6\" class=\"data row2 col6\" >4214</td>\n",
       "                        <td id=\"T_adbef41c_5b03_11ea_9187_00155d01c50crow2_col7\" class=\"data row2 col7\" >4430</td>\n",
       "                        <td id=\"T_adbef41c_5b03_11ea_9187_00155d01c50crow2_col8\" class=\"data row2 col8\" >5378</td>\n",
       "                        <td id=\"T_adbef41c_5b03_11ea_9187_00155d01c50crow2_col9\" class=\"data row2 col9\" >4225</td>\n",
       "                        <td id=\"T_adbef41c_5b03_11ea_9187_00155d01c50crow2_col10\" class=\"data row2 col10\" >4003</td>\n",
       "                        <td id=\"T_adbef41c_5b03_11ea_9187_00155d01c50crow2_col11\" class=\"data row2 col11\" >4809</td>\n",
       "            </tr>\n",
       "            <tr>\n",
       "                        <th id=\"T_adbef41c_5b03_11ea_9187_00155d01c50clevel0_row3\" class=\"row_heading level0 row3\" >Wed</th>\n",
       "                        <td id=\"T_adbef41c_5b03_11ea_9187_00155d01c50crow3_col0\" class=\"data row3 col0\" >4298</td>\n",
       "                        <td id=\"T_adbef41c_5b03_11ea_9187_00155d01c50crow3_col1\" class=\"data row3 col1\" >4990</td>\n",
       "                        <td id=\"T_adbef41c_5b03_11ea_9187_00155d01c50crow3_col2\" class=\"data row3 col2\" >4925</td>\n",
       "                        <td id=\"T_adbef41c_5b03_11ea_9187_00155d01c50crow3_col3\" class=\"data row3 col3\" >5924</td>\n",
       "                        <td id=\"T_adbef41c_5b03_11ea_9187_00155d01c50crow3_col4\" class=\"data row3 col4\" >4676</td>\n",
       "                        <td id=\"T_adbef41c_5b03_11ea_9187_00155d01c50crow3_col5\" class=\"data row3 col5\" >4486</td>\n",
       "                        <td id=\"T_adbef41c_5b03_11ea_9187_00155d01c50crow3_col6\" class=\"data row3 col6\" >5951</td>\n",
       "                        <td id=\"T_adbef41c_5b03_11ea_9187_00155d01c50crow3_col7\" class=\"data row3 col7\" >5121</td>\n",
       "                        <td id=\"T_adbef41c_5b03_11ea_9187_00155d01c50crow3_col8\" class=\"data row3 col8\" >5714</td>\n",
       "                        <td id=\"T_adbef41c_5b03_11ea_9187_00155d01c50crow3_col9\" class=\"data row3 col9\" >4036</td>\n",
       "                        <td id=\"T_adbef41c_5b03_11ea_9187_00155d01c50crow3_col10\" class=\"data row3 col10\" >4388</td>\n",
       "                        <td id=\"T_adbef41c_5b03_11ea_9187_00155d01c50crow3_col11\" class=\"data row3 col11\" >4373</td>\n",
       "            </tr>\n",
       "            <tr>\n",
       "                        <th id=\"T_adbef41c_5b03_11ea_9187_00155d01c50clevel0_row4\" class=\"row_heading level0 row4\" >Thu</th>\n",
       "                        <td id=\"T_adbef41c_5b03_11ea_9187_00155d01c50crow4_col0\" class=\"data row4 col0\" >4792</td>\n",
       "                        <td id=\"T_adbef41c_5b03_11ea_9187_00155d01c50crow4_col1\" class=\"data row4 col1\" >4864</td>\n",
       "                        <td id=\"T_adbef41c_5b03_11ea_9187_00155d01c50crow4_col2\" class=\"data row4 col2\" >4317</td>\n",
       "                        <td id=\"T_adbef41c_5b03_11ea_9187_00155d01c50crow4_col3\" class=\"data row4 col3\" >5900</td>\n",
       "                        <td id=\"T_adbef41c_5b03_11ea_9187_00155d01c50crow4_col4\" class=\"data row4 col4\" >4486</td>\n",
       "                        <td id=\"T_adbef41c_5b03_11ea_9187_00155d01c50crow4_col5\" class=\"data row4 col5\" >4716</td>\n",
       "                        <td id=\"T_adbef41c_5b03_11ea_9187_00155d01c50crow4_col6\" class=\"data row4 col6\" >5607</td>\n",
       "                        <td id=\"T_adbef41c_5b03_11ea_9187_00155d01c50crow4_col7\" class=\"data row4 col7\" >4785</td>\n",
       "                        <td id=\"T_adbef41c_5b03_11ea_9187_00155d01c50crow4_col8\" class=\"data row4 col8\" >4264</td>\n",
       "                        <td id=\"T_adbef41c_5b03_11ea_9187_00155d01c50crow4_col9\" class=\"data row4 col9\" >5742</td>\n",
       "                        <td id=\"T_adbef41c_5b03_11ea_9187_00155d01c50crow4_col10\" class=\"data row4 col10\" >3341</td>\n",
       "                        <td id=\"T_adbef41c_5b03_11ea_9187_00155d01c50crow4_col11\" class=\"data row4 col11\" >3645</td>\n",
       "            </tr>\n",
       "            <tr>\n",
       "                        <th id=\"T_adbef41c_5b03_11ea_9187_00155d01c50clevel0_row5\" class=\"row_heading level0 row5\" >Fri</th>\n",
       "                        <td id=\"T_adbef41c_5b03_11ea_9187_00155d01c50crow5_col0\" class=\"data row5 col0\" >4759</td>\n",
       "                        <td id=\"T_adbef41c_5b03_11ea_9187_00155d01c50crow5_col1\" class=\"data row5 col1\" >4281</td>\n",
       "                        <td id=\"T_adbef41c_5b03_11ea_9187_00155d01c50crow5_col2\" class=\"data row5 col2\" >4373</td>\n",
       "                        <td id=\"T_adbef41c_5b03_11ea_9187_00155d01c50crow5_col3\" class=\"data row5 col3\" >4306</td>\n",
       "                        <td id=\"T_adbef41c_5b03_11ea_9187_00155d01c50crow5_col4\" class=\"data row5 col4\" >4778</td>\n",
       "                        <td id=\"T_adbef41c_5b03_11ea_9187_00155d01c50crow5_col5\" class=\"data row5 col5\" >4309</td>\n",
       "                        <td id=\"T_adbef41c_5b03_11ea_9187_00155d01c50crow5_col6\" class=\"data row5 col6\" >4973</td>\n",
       "                        <td id=\"T_adbef41c_5b03_11ea_9187_00155d01c50crow5_col7\" class=\"data row5 col7\" >4571</td>\n",
       "                        <td id=\"T_adbef41c_5b03_11ea_9187_00155d01c50crow5_col8\" class=\"data row5 col8\" >4032</td>\n",
       "                        <td id=\"T_adbef41c_5b03_11ea_9187_00155d01c50crow5_col9\" class=\"data row5 col9\" >5101</td>\n",
       "                        <td id=\"T_adbef41c_5b03_11ea_9187_00155d01c50crow5_col10\" class=\"data row5 col10\" >4092</td>\n",
       "                        <td id=\"T_adbef41c_5b03_11ea_9187_00155d01c50crow5_col11\" class=\"data row5 col11\" >3166</td>\n",
       "            </tr>\n",
       "            <tr>\n",
       "                        <th id=\"T_adbef41c_5b03_11ea_9187_00155d01c50clevel0_row6\" class=\"row_heading level0 row6\" >Sat</th>\n",
       "                        <td id=\"T_adbef41c_5b03_11ea_9187_00155d01c50crow6_col0\" class=\"data row6 col0\" >3889</td>\n",
       "                        <td id=\"T_adbef41c_5b03_11ea_9187_00155d01c50crow6_col1\" class=\"data row6 col1\" >3651</td>\n",
       "                        <td id=\"T_adbef41c_5b03_11ea_9187_00155d01c50crow6_col2\" class=\"data row6 col2\" >4001</td>\n",
       "                        <td id=\"T_adbef41c_5b03_11ea_9187_00155d01c50crow6_col3\" class=\"data row6 col3\" >3725</td>\n",
       "                        <td id=\"T_adbef41c_5b03_11ea_9187_00155d01c50crow6_col4\" class=\"data row6 col4\" >4418</td>\n",
       "                        <td id=\"T_adbef41c_5b03_11ea_9187_00155d01c50crow6_col5\" class=\"data row6 col5\" >3634</td>\n",
       "                        <td id=\"T_adbef41c_5b03_11ea_9187_00155d01c50crow6_col6\" class=\"data row6 col6\" >3495</td>\n",
       "                        <td id=\"T_adbef41c_5b03_11ea_9187_00155d01c50crow6_col7\" class=\"data row6 col7\" >4915</td>\n",
       "                        <td id=\"T_adbef41c_5b03_11ea_9187_00155d01c50crow6_col8\" class=\"data row6 col8\" >3775</td>\n",
       "                        <td id=\"T_adbef41c_5b03_11ea_9187_00155d01c50crow6_col9\" class=\"data row6 col9\" >4153</td>\n",
       "                        <td id=\"T_adbef41c_5b03_11ea_9187_00155d01c50crow6_col10\" class=\"data row6 col10\" >3526</td>\n",
       "                        <td id=\"T_adbef41c_5b03_11ea_9187_00155d01c50crow6_col11\" class=\"data row6 col11\" >3276</td>\n",
       "            </tr>\n",
       "    </tbody></table>"
      ],
      "text/plain": [
       "<pandas.io.formats.style.Styler at 0x2255dfff0b8>"
      ]
     },
     "execution_count": 14,
     "metadata": {},
     "output_type": "execute_result"
    },
    {
     "data": {
      "text/markdown": [
       "<h3>Total number of arrests per day and month in 2018</h3>(Monthly min: green, max: orange.)"
      ],
      "text/plain": [
       "<IPython.core.display.Markdown object>"
      ]
     },
     "execution_count": 14,
     "metadata": {},
     "output_type": "execute_result"
    },
    {
     "data": {
      "text/html": [
       "<style  type=\"text/css\" >\n",
       "    #T_add18fe8_5b03_11ea_8861_00155d01c50crow0_col0 {\n",
       "            : ;\n",
       "            background-color:  #98fb98;\n",
       "        }    #T_add18fe8_5b03_11ea_8861_00155d01c50crow0_col1 {\n",
       "            : ;\n",
       "            background-color:  #98fb98;\n",
       "        }    #T_add18fe8_5b03_11ea_8861_00155d01c50crow0_col2 {\n",
       "            : ;\n",
       "            background-color:  #98fb98;\n",
       "        }    #T_add18fe8_5b03_11ea_8861_00155d01c50crow0_col3 {\n",
       "            : ;\n",
       "            background-color:  #98fb98;\n",
       "        }    #T_add18fe8_5b03_11ea_8861_00155d01c50crow0_col4 {\n",
       "            : ;\n",
       "            background-color:  #98fb98;\n",
       "        }    #T_add18fe8_5b03_11ea_8861_00155d01c50crow0_col5 {\n",
       "            : ;\n",
       "            background-color:  #98fb98;\n",
       "        }    #T_add18fe8_5b03_11ea_8861_00155d01c50crow0_col7 {\n",
       "            : ;\n",
       "            background-color:  #98fb98;\n",
       "        }    #T_add18fe8_5b03_11ea_8861_00155d01c50crow0_col9 {\n",
       "            : ;\n",
       "            background-color:  #98fb98;\n",
       "        }    #T_add18fe8_5b03_11ea_8861_00155d01c50crow0_col10 {\n",
       "            : ;\n",
       "            background-color:  #98fb98;\n",
       "        }    #T_add18fe8_5b03_11ea_8861_00155d01c50crow0_col11 {\n",
       "            : ;\n",
       "            background-color:  #98fb98;\n",
       "        }    #T_add18fe8_5b03_11ea_8861_00155d01c50crow1_col8 {\n",
       "            : ;\n",
       "            background-color:  #98fb98;\n",
       "        }    #T_add18fe8_5b03_11ea_8861_00155d01c50crow2_col6 {\n",
       "            background-color:  orange;\n",
       "            : ;\n",
       "        }    #T_add18fe8_5b03_11ea_8861_00155d01c50crow3_col0 {\n",
       "            background-color:  orange;\n",
       "            : ;\n",
       "        }    #T_add18fe8_5b03_11ea_8861_00155d01c50crow3_col3 {\n",
       "            background-color:  orange;\n",
       "            : ;\n",
       "        }    #T_add18fe8_5b03_11ea_8861_00155d01c50crow3_col4 {\n",
       "            background-color:  orange;\n",
       "            : ;\n",
       "        }    #T_add18fe8_5b03_11ea_8861_00155d01c50crow3_col7 {\n",
       "            background-color:  orange;\n",
       "            : ;\n",
       "        }    #T_add18fe8_5b03_11ea_8861_00155d01c50crow3_col8 {\n",
       "            background-color:  orange;\n",
       "            : ;\n",
       "        }    #T_add18fe8_5b03_11ea_8861_00155d01c50crow3_col9 {\n",
       "            background-color:  orange;\n",
       "            : ;\n",
       "        }    #T_add18fe8_5b03_11ea_8861_00155d01c50crow4_col1 {\n",
       "            background-color:  orange;\n",
       "            : ;\n",
       "        }    #T_add18fe8_5b03_11ea_8861_00155d01c50crow4_col2 {\n",
       "            background-color:  orange;\n",
       "            : ;\n",
       "        }    #T_add18fe8_5b03_11ea_8861_00155d01c50crow4_col10 {\n",
       "            background-color:  orange;\n",
       "            : ;\n",
       "        }    #T_add18fe8_5b03_11ea_8861_00155d01c50crow5_col5 {\n",
       "            background-color:  orange;\n",
       "            : ;\n",
       "        }    #T_add18fe8_5b03_11ea_8861_00155d01c50crow6_col6 {\n",
       "            : ;\n",
       "            background-color:  #98fb98;\n",
       "        }    #T_add18fe8_5b03_11ea_8861_00155d01c50crow6_col11 {\n",
       "            background-color:  orange;\n",
       "            : ;\n",
       "        }</style><table id=\"T_add18fe8_5b03_11ea_8861_00155d01c50c\" ><thead>    <tr>        <th class=\"index_name level0\" >Month</th>        <th class=\"col_heading level0 col0\" >1</th>        <th class=\"col_heading level0 col1\" >2</th>        <th class=\"col_heading level0 col2\" >3</th>        <th class=\"col_heading level0 col3\" >4</th>        <th class=\"col_heading level0 col4\" >5</th>        <th class=\"col_heading level0 col5\" >6</th>        <th class=\"col_heading level0 col6\" >7</th>        <th class=\"col_heading level0 col7\" >8</th>        <th class=\"col_heading level0 col8\" >9</th>        <th class=\"col_heading level0 col9\" >10</th>        <th class=\"col_heading level0 col10\" >11</th>        <th class=\"col_heading level0 col11\" >12</th>    </tr>    <tr>        <th class=\"index_name level0\" >Day</th>        <th class=\"blank\" ></th>        <th class=\"blank\" ></th>        <th class=\"blank\" ></th>        <th class=\"blank\" ></th>        <th class=\"blank\" ></th>        <th class=\"blank\" ></th>        <th class=\"blank\" ></th>        <th class=\"blank\" ></th>        <th class=\"blank\" ></th>        <th class=\"blank\" ></th>        <th class=\"blank\" ></th>        <th class=\"blank\" ></th>    </tr></thead><tbody>\n",
       "                <tr>\n",
       "                        <th id=\"T_add18fe8_5b03_11ea_8861_00155d01c50clevel0_row0\" class=\"row_heading level0 row0\" >Sun</th>\n",
       "                        <td id=\"T_add18fe8_5b03_11ea_8861_00155d01c50crow0_col0\" class=\"data row0 col0\" >2203</td>\n",
       "                        <td id=\"T_add18fe8_5b03_11ea_8861_00155d01c50crow0_col1\" class=\"data row0 col1\" >2043</td>\n",
       "                        <td id=\"T_add18fe8_5b03_11ea_8861_00155d01c50crow0_col2\" class=\"data row0 col2\" >2263</td>\n",
       "                        <td id=\"T_add18fe8_5b03_11ea_8861_00155d01c50crow0_col3\" class=\"data row0 col3\" >2554</td>\n",
       "                        <td id=\"T_add18fe8_5b03_11ea_8861_00155d01c50crow0_col4\" class=\"data row0 col4\" >2061</td>\n",
       "                        <td id=\"T_add18fe8_5b03_11ea_8861_00155d01c50crow0_col5\" class=\"data row0 col5\" >1826</td>\n",
       "                        <td id=\"T_add18fe8_5b03_11ea_8861_00155d01c50crow0_col6\" class=\"data row0 col6\" >2619</td>\n",
       "                        <td id=\"T_add18fe8_5b03_11ea_8861_00155d01c50crow0_col7\" class=\"data row0 col7\" >2206</td>\n",
       "                        <td id=\"T_add18fe8_5b03_11ea_8861_00155d01c50crow0_col8\" class=\"data row0 col8\" >2293</td>\n",
       "                        <td id=\"T_add18fe8_5b03_11ea_8861_00155d01c50crow0_col9\" class=\"data row0 col9\" >1858</td>\n",
       "                        <td id=\"T_add18fe8_5b03_11ea_8861_00155d01c50crow0_col10\" class=\"data row0 col10\" >1859</td>\n",
       "                        <td id=\"T_add18fe8_5b03_11ea_8861_00155d01c50crow0_col11\" class=\"data row0 col11\" >2103</td>\n",
       "            </tr>\n",
       "            <tr>\n",
       "                        <th id=\"T_add18fe8_5b03_11ea_8861_00155d01c50clevel0_row1\" class=\"row_heading level0 row1\" >Mon</th>\n",
       "                        <td id=\"T_add18fe8_5b03_11ea_8861_00155d01c50crow1_col0\" class=\"data row1 col0\" >3273</td>\n",
       "                        <td id=\"T_add18fe8_5b03_11ea_8861_00155d01c50crow1_col1\" class=\"data row1 col1\" >2687</td>\n",
       "                        <td id=\"T_add18fe8_5b03_11ea_8861_00155d01c50crow1_col2\" class=\"data row1 col2\" >2593</td>\n",
       "                        <td id=\"T_add18fe8_5b03_11ea_8861_00155d01c50crow1_col3\" class=\"data row1 col3\" >2875</td>\n",
       "                        <td id=\"T_add18fe8_5b03_11ea_8861_00155d01c50crow1_col4\" class=\"data row1 col4\" >2300</td>\n",
       "                        <td id=\"T_add18fe8_5b03_11ea_8861_00155d01c50crow1_col5\" class=\"data row1 col5\" >2275</td>\n",
       "                        <td id=\"T_add18fe8_5b03_11ea_8861_00155d01c50crow1_col6\" class=\"data row1 col6\" >2976</td>\n",
       "                        <td id=\"T_add18fe8_5b03_11ea_8861_00155d01c50crow1_col7\" class=\"data row1 col7\" >2319</td>\n",
       "                        <td id=\"T_add18fe8_5b03_11ea_8861_00155d01c50crow1_col8\" class=\"data row1 col8\" >2115</td>\n",
       "                        <td id=\"T_add18fe8_5b03_11ea_8861_00155d01c50crow1_col9\" class=\"data row1 col9\" >2753</td>\n",
       "                        <td id=\"T_add18fe8_5b03_11ea_8861_00155d01c50crow1_col10\" class=\"data row1 col10\" >2131</td>\n",
       "                        <td id=\"T_add18fe8_5b03_11ea_8861_00155d01c50crow1_col11\" class=\"data row1 col11\" >2280</td>\n",
       "            </tr>\n",
       "            <tr>\n",
       "                        <th id=\"T_add18fe8_5b03_11ea_8861_00155d01c50clevel0_row2\" class=\"row_heading level0 row2\" >Tue</th>\n",
       "                        <td id=\"T_add18fe8_5b03_11ea_8861_00155d01c50crow2_col0\" class=\"data row2 col0\" >4381</td>\n",
       "                        <td id=\"T_add18fe8_5b03_11ea_8861_00155d01c50crow2_col1\" class=\"data row2 col1\" >3530</td>\n",
       "                        <td id=\"T_add18fe8_5b03_11ea_8861_00155d01c50crow2_col2\" class=\"data row2 col2\" >3467</td>\n",
       "                        <td id=\"T_add18fe8_5b03_11ea_8861_00155d01c50crow2_col3\" class=\"data row2 col3\" >3201</td>\n",
       "                        <td id=\"T_add18fe8_5b03_11ea_8861_00155d01c50crow2_col4\" class=\"data row2 col4\" >3746</td>\n",
       "                        <td id=\"T_add18fe8_5b03_11ea_8861_00155d01c50crow2_col5\" class=\"data row2 col5\" >2896</td>\n",
       "                        <td id=\"T_add18fe8_5b03_11ea_8861_00155d01c50crow2_col6\" class=\"data row2 col6\" >3642</td>\n",
       "                        <td id=\"T_add18fe8_5b03_11ea_8861_00155d01c50crow2_col7\" class=\"data row2 col7\" >2909</td>\n",
       "                        <td id=\"T_add18fe8_5b03_11ea_8861_00155d01c50crow2_col8\" class=\"data row2 col8\" >2608</td>\n",
       "                        <td id=\"T_add18fe8_5b03_11ea_8861_00155d01c50crow2_col9\" class=\"data row2 col9\" >3555</td>\n",
       "                        <td id=\"T_add18fe8_5b03_11ea_8861_00155d01c50crow2_col10\" class=\"data row2 col10\" >2634</td>\n",
       "                        <td id=\"T_add18fe8_5b03_11ea_8861_00155d01c50crow2_col11\" class=\"data row2 col11\" >2356</td>\n",
       "            </tr>\n",
       "            <tr>\n",
       "                        <th id=\"T_add18fe8_5b03_11ea_8861_00155d01c50clevel0_row3\" class=\"row_heading level0 row3\" >Wed</th>\n",
       "                        <td id=\"T_add18fe8_5b03_11ea_8861_00155d01c50crow3_col0\" class=\"data row3 col0\" >4764</td>\n",
       "                        <td id=\"T_add18fe8_5b03_11ea_8861_00155d01c50crow3_col1\" class=\"data row3 col1\" >3668</td>\n",
       "                        <td id=\"T_add18fe8_5b03_11ea_8861_00155d01c50crow3_col2\" class=\"data row3 col2\" >2795</td>\n",
       "                        <td id=\"T_add18fe8_5b03_11ea_8861_00155d01c50crow3_col3\" class=\"data row3 col3\" >3484</td>\n",
       "                        <td id=\"T_add18fe8_5b03_11ea_8861_00155d01c50crow3_col4\" class=\"data row3 col4\" >4293</td>\n",
       "                        <td id=\"T_add18fe8_5b03_11ea_8861_00155d01c50crow3_col5\" class=\"data row3 col5\" >3169</td>\n",
       "                        <td id=\"T_add18fe8_5b03_11ea_8861_00155d01c50crow3_col6\" class=\"data row3 col6\" >3026</td>\n",
       "                        <td id=\"T_add18fe8_5b03_11ea_8861_00155d01c50crow3_col7\" class=\"data row3 col7\" >4066</td>\n",
       "                        <td id=\"T_add18fe8_5b03_11ea_8861_00155d01c50crow3_col8\" class=\"data row3 col8\" >3017</td>\n",
       "                        <td id=\"T_add18fe8_5b03_11ea_8861_00155d01c50crow3_col9\" class=\"data row3 col9\" >3751</td>\n",
       "                        <td id=\"T_add18fe8_5b03_11ea_8861_00155d01c50crow3_col10\" class=\"data row3 col10\" >2872</td>\n",
       "                        <td id=\"T_add18fe8_5b03_11ea_8861_00155d01c50crow3_col11\" class=\"data row3 col11\" >2687</td>\n",
       "            </tr>\n",
       "            <tr>\n",
       "                        <th id=\"T_add18fe8_5b03_11ea_8861_00155d01c50clevel0_row4\" class=\"row_heading level0 row4\" >Thu</th>\n",
       "                        <td id=\"T_add18fe8_5b03_11ea_8861_00155d01c50crow4_col0\" class=\"data row4 col0\" >3261</td>\n",
       "                        <td id=\"T_add18fe8_5b03_11ea_8861_00155d01c50crow4_col1\" class=\"data row4 col1\" >3913</td>\n",
       "                        <td id=\"T_add18fe8_5b03_11ea_8861_00155d01c50crow4_col2\" class=\"data row4 col2\" >4268</td>\n",
       "                        <td id=\"T_add18fe8_5b03_11ea_8861_00155d01c50crow4_col3\" class=\"data row4 col3\" >3479</td>\n",
       "                        <td id=\"T_add18fe8_5b03_11ea_8861_00155d01c50crow4_col4\" class=\"data row4 col4\" >4031</td>\n",
       "                        <td id=\"T_add18fe8_5b03_11ea_8861_00155d01c50crow4_col5\" class=\"data row4 col5\" >3079</td>\n",
       "                        <td id=\"T_add18fe8_5b03_11ea_8861_00155d01c50crow4_col6\" class=\"data row4 col6\" >3144</td>\n",
       "                        <td id=\"T_add18fe8_5b03_11ea_8861_00155d01c50crow4_col7\" class=\"data row4 col7\" >3834</td>\n",
       "                        <td id=\"T_add18fe8_5b03_11ea_8861_00155d01c50crow4_col8\" class=\"data row4 col8\" >2884</td>\n",
       "                        <td id=\"T_add18fe8_5b03_11ea_8861_00155d01c50crow4_col9\" class=\"data row4 col9\" >2924</td>\n",
       "                        <td id=\"T_add18fe8_5b03_11ea_8861_00155d01c50crow4_col10\" class=\"data row4 col10\" >3260</td>\n",
       "                        <td id=\"T_add18fe8_5b03_11ea_8861_00155d01c50crow4_col11\" class=\"data row4 col11\" >2652</td>\n",
       "            </tr>\n",
       "            <tr>\n",
       "                        <th id=\"T_add18fe8_5b03_11ea_8861_00155d01c50clevel0_row5\" class=\"row_heading level0 row5\" >Fri</th>\n",
       "                        <td id=\"T_add18fe8_5b03_11ea_8861_00155d01c50crow5_col0\" class=\"data row5 col0\" >3211</td>\n",
       "                        <td id=\"T_add18fe8_5b03_11ea_8861_00155d01c50crow5_col1\" class=\"data row5 col1\" >3137</td>\n",
       "                        <td id=\"T_add18fe8_5b03_11ea_8861_00155d01c50crow5_col2\" class=\"data row5 col2\" >3727</td>\n",
       "                        <td id=\"T_add18fe8_5b03_11ea_8861_00155d01c50crow5_col3\" class=\"data row5 col3\" >3051</td>\n",
       "                        <td id=\"T_add18fe8_5b03_11ea_8861_00155d01c50crow5_col4\" class=\"data row5 col4\" >3193</td>\n",
       "                        <td id=\"T_add18fe8_5b03_11ea_8861_00155d01c50crow5_col5\" class=\"data row5 col5\" >3382</td>\n",
       "                        <td id=\"T_add18fe8_5b03_11ea_8861_00155d01c50crow5_col6\" class=\"data row5 col6\" >2899</td>\n",
       "                        <td id=\"T_add18fe8_5b03_11ea_8861_00155d01c50crow5_col7\" class=\"data row5 col7\" >3619</td>\n",
       "                        <td id=\"T_add18fe8_5b03_11ea_8861_00155d01c50crow5_col8\" class=\"data row5 col8\" >2732</td>\n",
       "                        <td id=\"T_add18fe8_5b03_11ea_8861_00155d01c50crow5_col9\" class=\"data row5 col9\" >2642</td>\n",
       "                        <td id=\"T_add18fe8_5b03_11ea_8861_00155d01c50crow5_col10\" class=\"data row5 col10\" >3144</td>\n",
       "                        <td id=\"T_add18fe8_5b03_11ea_8861_00155d01c50crow5_col11\" class=\"data row5 col11\" >2483</td>\n",
       "            </tr>\n",
       "            <tr>\n",
       "                        <th id=\"T_add18fe8_5b03_11ea_8861_00155d01c50clevel0_row6\" class=\"row_heading level0 row6\" >Sat</th>\n",
       "                        <td id=\"T_add18fe8_5b03_11ea_8861_00155d01c50crow6_col0\" class=\"data row6 col0\" >2789</td>\n",
       "                        <td id=\"T_add18fe8_5b03_11ea_8861_00155d01c50crow6_col1\" class=\"data row6 col1\" >2746</td>\n",
       "                        <td id=\"T_add18fe8_5b03_11ea_8861_00155d01c50crow6_col2\" class=\"data row6 col2\" >3349</td>\n",
       "                        <td id=\"T_add18fe8_5b03_11ea_8861_00155d01c50crow6_col3\" class=\"data row6 col3\" >2683</td>\n",
       "                        <td id=\"T_add18fe8_5b03_11ea_8861_00155d01c50crow6_col4\" class=\"data row6 col4\" >2412</td>\n",
       "                        <td id=\"T_add18fe8_5b03_11ea_8861_00155d01c50crow6_col5\" class=\"data row6 col5\" >2985</td>\n",
       "                        <td id=\"T_add18fe8_5b03_11ea_8861_00155d01c50crow6_col6\" class=\"data row6 col6\" >2569</td>\n",
       "                        <td id=\"T_add18fe8_5b03_11ea_8861_00155d01c50crow6_col7\" class=\"data row6 col7\" >2427</td>\n",
       "                        <td id=\"T_add18fe8_5b03_11ea_8861_00155d01c50crow6_col8\" class=\"data row6 col8\" >2859</td>\n",
       "                        <td id=\"T_add18fe8_5b03_11ea_8861_00155d01c50crow6_col9\" class=\"data row6 col9\" >2024</td>\n",
       "                        <td id=\"T_add18fe8_5b03_11ea_8861_00155d01c50crow6_col10\" class=\"data row6 col10\" >2096</td>\n",
       "                        <td id=\"T_add18fe8_5b03_11ea_8861_00155d01c50crow6_col11\" class=\"data row6 col11\" >2834</td>\n",
       "            </tr>\n",
       "    </tbody></table>"
      ],
      "text/plain": [
       "<pandas.io.formats.style.Styler at 0x225590d1128>"
      ]
     },
     "execution_count": 14,
     "metadata": {},
     "output_type": "execute_result"
    }
   ],
   "source": [
    "#test\n",
    "year = 2015\n",
    "\n",
    "MDxt_15 = etl.load_xtab_df(xtab_2015, colindex_name='Month')\n",
    "MDxt_15_styl = etl.highlights_styled(MDxt_15)\n",
    "\n",
    "Markdown(f\"<h3>Total number of arrests per day and month in {year}</h3>(Monthly min: green, max: orange.)\")\n",
    "MDxt_15_styl\n",
    "\n",
    "year = 2018\n",
    "\n",
    "MDxt_18 = etl.load_xtab_df(xtab_2018, colindex_name='Month')\n",
    "MDxt_18_styl = etl.highlights_styled(MDxt_18)\n",
    "\n",
    "Markdown(f\"<h3>Total number of arrests per day and month in {year}</h3>(Monthly min: green, max: orange.)\")\n",
    "MDxt_18_styl"
   ]
  },
  {
   "cell_type": "markdown",
   "metadata": {},
   "source": [
    "### Bar plots: easier to read?"
   ]
  },
  {
   "cell_type": "code",
   "execution_count": 15,
   "metadata": {},
   "outputs": [],
   "source": [
    "fig_xtab_15 = DIR_IMG.joinpath(ID_Arrests + '_2015_xtab_YMDt.png') \n",
    "fig_xtab_16 = DIR_IMG.joinpath(ID_Arrests + '_2016_xtab_YMDt.png') \n",
    "fig_xtab_17 = DIR_IMG.joinpath(ID_Arrests + '_2017_xtab_YMDt.png') \n",
    "fig_xtab_18 = DIR_IMG.joinpath(ID_Arrests + '_2018_xtab_YMDt.png') "
   ]
  },
  {
   "cell_type": "code",
   "execution_count": 16,
   "metadata": {},
   "outputs": [],
   "source": [
    "def save_xtab_barplots(year):\n",
    "    \"\"\"\n",
    "    Wrapper for etl.show_bar_plot with savepic=False to add title,\n",
    "    quickly visualize best legend postion then save.    \n",
    "    \"\"\"\n",
    "    fig_name = DIR_IMG.joinpath(ID_Arrests + f'_{year}_xtab_YMDt.png') \n",
    "    # 't'in name: transposed df\n",
    "    xtab_name = DATA_INTERIM.joinpath(ID_Arrests + f'_{year}_YMD_xtab.csv')\n",
    "    \n",
    "    fsize = (10,5)\n",
    "    fig, ax = plt.subplots(1, 1, figsize=fsize)\n",
    "\n",
    "    bbox = (0.05, 1.0, 0.9, .02)\n",
    "    mode = 'expand'\n",
    "    \n",
    "    dfxt = etl.load_xtab_df(xtab_name)\n",
    "    \n",
    "    # reset column index name: in the way whith expand mode:\n",
    "    dfxt.columns.name=None\n",
    "    dfxt.index.name=None\n",
    "\n",
    "    ax = etl.show_bar_plot(dfxt.T, ax, fname=fig_name, \n",
    "                           lgd_bbox=bbox, lgd_mode=mode,\n",
    "                           savepic=False, replace=True, alpha=0.85, width=.70);\n",
    "    \n",
    "    plt.suptitle(str(year), fontweight='bold');\n",
    "    \n",
    "    etl.save_pic(plt, fname=fig_name, replace=True)\n",
    "    plt.close(fig);"
   ]
  },
  {
   "cell_type": "raw",
   "metadata": {},
   "source": [
    "for year in last4years:\n",
    "    save_xtab_barplots(year)"
   ]
  },
  {
   "cell_type": "code",
   "execution_count": 410,
   "metadata": {},
   "outputs": [
    {
     "data": {
      "image/png": "[encoded data removed]",
      "text/plain": [
       "<IPython.core.display.Image object>"
      ]
     },
     "execution_count": 410,
     "metadata": {},
     "output_type": "execute_result"
    }
   ],
   "source": [
    "Image(filename=fig_xtab_15)"
   ]
  },
  {
   "cell_type": "code",
   "execution_count": 411,
   "metadata": {},
   "outputs": [
    {
     "data": {
      "image/png": "[encoded data removed]",
      "text/plain": [
       "<IPython.core.display.Image object>"
      ]
     },
     "execution_count": 411,
     "metadata": {},
     "output_type": "execute_result"
    }
   ],
   "source": [
    "Image(filename=fig_xtab_16)"
   ]
  },
  {
   "cell_type": "code",
   "execution_count": 412,
   "metadata": {},
   "outputs": [
    {
     "data": {
      "image/png": "[encoded data removed]",
      "text/plain": [
       "<IPython.core.display.Image object>"
      ]
     },
     "execution_count": 412,
     "metadata": {},
     "output_type": "execute_result"
    }
   ],
   "source": [
    "Image(filename=fig_xtab_17)"
   ]
  },
  {
   "cell_type": "code",
   "execution_count": 413,
   "metadata": {},
   "outputs": [
    {
     "data": {
      "image/png": "[encoded data removed]",
      "text/plain": [
       "<IPython.core.display.Image object>"
      ]
     },
     "execution_count": 413,
     "metadata": {},
     "output_type": "execute_result"
    }
   ],
   "source": [
    "Image(filename=fig_xtab_18)"
   ]
  },
  {
   "cell_type": "markdown",
   "metadata": {},
   "source": [
    "---"
   ]
  },
  {
   "cell_type": "markdown",
   "metadata": {},
   "source": [
    "### All years count"
   ]
  },
  {
   "cell_type": "code",
   "execution_count": 17,
   "metadata": {},
   "outputs": [],
   "source": [
    "all_counts_pic = DIR_IMG.joinpath(ID_Arrests + '_years_counts_all.png')"
   ]
  },
  {
   "cell_type": "raw",
   "metadata": {},
   "source": [
    "# create & save plot: done\n",
    "yrs_tots = pd.read_csv(in_YMD_counts, index_col=0)\n",
    "\n",
    "etl.show_yearly_counts(yrs_tots, fname=all_counts_pic, savepic=True, fsize=(7, 5), replace=True)"
   ]
  },
  {
   "cell_type": "code",
   "execution_count": 493,
   "metadata": {},
   "outputs": [
    {
     "data": {
      "image/png": "[encoded data removed]",
      "text/plain": [
       "<IPython.core.display.Image object>"
      ]
     },
     "execution_count": 493,
     "metadata": {},
     "output_type": "execute_result"
    }
   ],
   "source": [
    "Image(filename=all_counts_pic)"
   ]
  },
  {
   "cell_type": "markdown",
   "metadata": {},
   "source": [
    "---\n",
    "# Questions"
   ]
  },
  {
   "cell_type": "code",
   "execution_count": 385,
   "metadata": {},
   "outputs": [],
   "source": [
    "Questions = {'Q1': \"Has the arrest rate been decreasing from 2015-2018?\",\n",
    "             'Q2': \"What are the top 5 most frequent arrests as described in the column 'pd_desc' in 2018?\",\n",
    "             'Q3': \"If we think of arrests as a sample of total crime, is there more crime in precinct 19 (Upper East Side) than precinct 73 (Brownsville)?\",\n",
    "             'Q4': \"Given the available data, what model would you build to predict crime to better allocate NYPD resources?\"\n",
    "            }"
   ]
  },
  {
   "cell_type": "code",
   "execution_count": 423,
   "metadata": {},
   "outputs": [
    {
     "data": {
      "text/html": [
       "<div>\n",
       "<style scoped>\n",
       "    .dataframe tbody tr th:only-of-type {\n",
       "        vertical-align: middle;\n",
       "    }\n",
       "\n",
       "    .dataframe tbody tr th {\n",
       "        vertical-align: top;\n",
       "    }\n",
       "\n",
       "    .dataframe thead th {\n",
       "        text-align: right;\n",
       "    }\n",
       "</style>\n",
       "<table border=\"1\" class=\"dataframe\">\n",
       "  <thead>\n",
       "    <tr style=\"text-align: right;\">\n",
       "      <th></th>\n",
       "      <th>Year</th>\n",
       "      <th>Total</th>\n",
       "    </tr>\n",
       "  </thead>\n",
       "  <tbody>\n",
       "    <tr>\n",
       "      <th>9</th>\n",
       "      <td>2015</td>\n",
       "      <td>339470</td>\n",
       "    </tr>\n",
       "    <tr>\n",
       "      <th>10</th>\n",
       "      <td>2016</td>\n",
       "      <td>314864</td>\n",
       "    </tr>\n",
       "    <tr>\n",
       "      <th>11</th>\n",
       "      <td>2017</td>\n",
       "      <td>286225</td>\n",
       "    </tr>\n",
       "    <tr>\n",
       "      <th>12</th>\n",
       "      <td>2018</td>\n",
       "      <td>246704</td>\n",
       "    </tr>\n",
       "  </tbody>\n",
       "</table>\n",
       "</div>"
      ],
      "text/plain": [
       "    Year   Total\n",
       "9   2015  339470\n",
       "10  2016  314864\n",
       "11  2017  286225\n",
       "12  2018  246704"
      ]
     },
     "execution_count": 423,
     "metadata": {},
     "output_type": "execute_result"
    }
   ],
   "source": [
    "yrs_tots = pd.read_csv(in_YMD_counts, index_col=0)\n",
    "\n",
    "yrs_tots_last4 = yrs_tots[-4:]\n",
    "yrs_tots_last4 "
   ]
  },
  {
   "cell_type": "code",
   "execution_count": 424,
   "metadata": {},
   "outputs": [
    {
     "data": {
      "text/markdown": [
       " ### Average number of arrests (std) over the last four years (2015-2018): 296,816(±39,868)"
      ],
      "text/plain": [
       "<IPython.core.display.Markdown object>"
      ]
     },
     "execution_count": 424,
     "metadata": {},
     "output_type": "execute_result"
    }
   ],
   "source": [
    "tot_aver = yrs_tots_last4.Total.mean()\n",
    "tot_std = yrs_tots_last4.Total.std()\n",
    "\n",
    "plusminus = u'\\u00b1'\n",
    "text = ' ### Average number of arrests (std) over the last four years (2015-2018): '\n",
    "text += f'{tot_aver:,.0f}({plusminus}{tot_std:,.0f})'\n",
    "Markdown(text)"
   ]
  },
  {
   "cell_type": "markdown",
   "metadata": {},
   "source": [
    "---\n",
    "# Q1"
   ]
  },
  {
   "cell_type": "markdown",
   "metadata": {},
   "source": [
    "### Create figure:"
   ]
  },
  {
   "cell_type": "code",
   "execution_count": 425,
   "metadata": {},
   "outputs": [],
   "source": [
    "fig1 = DIR_IMG.joinpath(ID_Arrests + '_years_counts_from_2015.png')"
   ]
  },
  {
   "cell_type": "raw",
   "metadata": {},
   "source": [
    "# saved\n",
    "etl.show_yearly_counts(yrs_tots_last4, fname=fig1, \n",
    "                        savepic=True, fitline=True,  fsize=(7, 5), replace=False)"
   ]
  },
  {
   "cell_type": "code",
   "execution_count": 427,
   "metadata": {},
   "outputs": [
    {
     "data": {
      "image/png": "[encoded data removed]",
      "text/plain": [
       "<IPython.core.display.Image object>"
      ]
     },
     "execution_count": 427,
     "metadata": {},
     "output_type": "execute_result"
    }
   ],
   "source": [
    "Image(filename=fig1)"
   ]
  },
  {
   "cell_type": "markdown",
   "metadata": {},
   "source": [
    "---\n",
    "# Q2"
   ]
  },
  {
   "cell_type": "code",
   "execution_count": 428,
   "metadata": {},
   "outputs": [
    {
     "data": {
      "text/plain": [
       "\"What are the top 5 most frequent arrests as described in the column 'pd_desc' in 2018?\""
      ]
     },
     "execution_count": 428,
     "metadata": {},
     "output_type": "execute_result"
    },
    {
     "name": "stdout",
     "output_type": "stream",
     "text": [
      "Compare & describe the overall trends of these arrests across time.\n"
     ]
    }
   ],
   "source": [
    "Questions['Q2']\n",
    "print(\"Compare & describe the overall trends of these arrests across time.\")"
   ]
  },
  {
   "cell_type": "code",
   "execution_count": 166,
   "metadata": {},
   "outputs": [],
   "source": [
    "# all yrs:\n",
    "top5 = DATA_INTERIM.joinpath(ID_Arrests + '_top5_desc.csv')\n",
    "top5_2018 = DATA_INTERIM.joinpath(ID_Arrests + '_top5_desc_2018.csv')\n",
    "top5_2017 = DATA_INTERIM.joinpath(ID_Arrests + '_top5_desc_2017.csv')\n",
    "top5_2016 = DATA_INTERIM.joinpath(ID_Arrests + '_top5_desc_2016.csv')\n",
    "top5_2015 = DATA_INTERIM.joinpath(ID_Arrests + '_top5_desc_2015.csv')\n",
    "\n",
    "# Save count of each 2018 top5 desc item grouped by year:\n",
    "top5_evol = DATA_INTERIM.joinpath(ID_Arrests + '_top5_desc_evol.csv')\n",
    "\n",
    "top5_evol_final = DATA_READY.joinpath(ID_Arrests + '_top5_desc_evol.csv')\n",
    "\n",
    "top5_evol_rankings = DATA_READY.joinpath(ID_Arrests + '_top5_desc_evol_rankings.csv')"
   ]
  },
  {
   "cell_type": "raw",
   "metadata": {},
   "source": [
    "# Save dataset top5 to csv:\n",
    "\n",
    "dg = data.groupby('pd_desc')['arrest_key'].count().sort_values(ascending=False)[:5]\n",
    "dg.index.name=None\n",
    "idx = dg.index.insert(0, 'pd_desc')\n",
    "vals = dg.values.tolist()\n",
    "vals.insert(0, 'count')\n",
    "pd.Series(index=idx, data=vals).to_csv(top5, header=False)"
   ]
  },
  {
   "cell_type": "raw",
   "metadata": {},
   "source": [
    "# Yearly top5:\n",
    "\n",
    "# yearly file name format:\n",
    "yrly_top5_fmt = ID_Arrests + '_top5_desc_{}.csv'\n",
    "\n",
    "for yr in years:\n",
    "    fname = DATA_INTERIM.joinpath(yrly_top5_fmt.format(yr))\n",
    "    \n",
    "    dg = (data.loc[data.Year==yr, ['pd_desc','arrest_key']]\n",
    "          .groupby('pd_desc')['arrest_key'].count()\n",
    "          .sort_values(ascending=False)[:5])\n",
    "    dg.index.name=None\n",
    "    idx = dg.index.insert(0, 'pd_desc')\n",
    "    vals = dg.values.tolist()\n",
    "    vals.insert(0, 'count')\n",
    "    pd.Series(index=idx, data=vals).to_csv(fname, header=False)"
   ]
  },
  {
   "cell_type": "markdown",
   "metadata": {},
   "source": [
    "---"
   ]
  },
  {
   "cell_type": "code",
   "execution_count": 65,
   "metadata": {},
   "outputs": [
    {
     "data": {
      "text/html": [
       "<div>\n",
       "<style scoped>\n",
       "    .dataframe tbody tr th:only-of-type {\n",
       "        vertical-align: middle;\n",
       "    }\n",
       "\n",
       "    .dataframe tbody tr th {\n",
       "        vertical-align: top;\n",
       "    }\n",
       "\n",
       "    .dataframe thead th {\n",
       "        text-align: right;\n",
       "    }\n",
       "</style>\n",
       "<table border=\"1\" class=\"dataframe\">\n",
       "  <thead>\n",
       "    <tr style=\"text-align: right;\">\n",
       "      <th>(2015-2018)</th>\n",
       "      <th>pd_desc</th>\n",
       "      <th>count</th>\n",
       "    </tr>\n",
       "  </thead>\n",
       "  <tbody>\n",
       "    <tr>\n",
       "      <th>0</th>\n",
       "      <td>MARIJUANA, POSSESSION 4 &amp; 5</td>\n",
       "      <td>422358</td>\n",
       "    </tr>\n",
       "    <tr>\n",
       "      <th>1</th>\n",
       "      <td>ASSAULT 3</td>\n",
       "      <td>376001</td>\n",
       "    </tr>\n",
       "    <tr>\n",
       "      <th>2</th>\n",
       "      <td>THEFT OF SERVICES, UNCLASSIFIED</td>\n",
       "      <td>303359</td>\n",
       "    </tr>\n",
       "    <tr>\n",
       "      <th>3</th>\n",
       "      <td>CONTROLLED SUBSTANCE, POSSESSION 7</td>\n",
       "      <td>278083</td>\n",
       "    </tr>\n",
       "    <tr>\n",
       "      <th>4</th>\n",
       "      <td>NY STATE LAWS,UNCLASSIFIED VIOLATION</td>\n",
       "      <td>225678</td>\n",
       "    </tr>\n",
       "  </tbody>\n",
       "</table>\n",
       "</div>"
      ],
      "text/plain": [
       "(2015-2018)                               pd_desc   count\n",
       "0                     MARIJUANA, POSSESSION 4 & 5  422358\n",
       "1                                       ASSAULT 3  376001\n",
       "2                 THEFT OF SERVICES, UNCLASSIFIED  303359\n",
       "3              CONTROLLED SUBSTANCE, POSSESSION 7  278083\n",
       "4            NY STATE LAWS,UNCLASSIFIED VIOLATION  225678"
      ]
     },
     "execution_count": 65,
     "metadata": {},
     "output_type": "execute_result"
    }
   ],
   "source": [
    "# overall top5:\n",
    "\n",
    "etl.load_xtab_df(top5, colindex_name='(2015-2018)', idx_col=None)"
   ]
  },
  {
   "cell_type": "markdown",
   "metadata": {},
   "source": [
    "## These Top 5 arrests in 2018 will be traced over time in the 2015-2018 period:"
   ]
  },
  {
   "cell_type": "code",
   "execution_count": 66,
   "metadata": {},
   "outputs": [
    {
     "data": {
      "text/html": [
       "<div>\n",
       "<style scoped>\n",
       "    .dataframe tbody tr th:only-of-type {\n",
       "        vertical-align: middle;\n",
       "    }\n",
       "\n",
       "    .dataframe tbody tr th {\n",
       "        vertical-align: top;\n",
       "    }\n",
       "\n",
       "    .dataframe thead th {\n",
       "        text-align: right;\n",
       "    }\n",
       "</style>\n",
       "<table border=\"1\" class=\"dataframe\">\n",
       "  <thead>\n",
       "    <tr style=\"text-align: right;\">\n",
       "      <th>2018</th>\n",
       "      <th>pd_desc</th>\n",
       "      <th>count</th>\n",
       "    </tr>\n",
       "  </thead>\n",
       "  <tbody>\n",
       "    <tr>\n",
       "      <th>0</th>\n",
       "      <td>ASSAULT 3</td>\n",
       "      <td>26611</td>\n",
       "    </tr>\n",
       "    <tr>\n",
       "      <th>1</th>\n",
       "      <td>LARCENY,PETIT FROM OPEN AREAS,UNCLASSIFIED</td>\n",
       "      <td>23405</td>\n",
       "    </tr>\n",
       "    <tr>\n",
       "      <th>2</th>\n",
       "      <td>TRAFFIC,UNCLASSIFIED MISDEMEAN</td>\n",
       "      <td>14856</td>\n",
       "    </tr>\n",
       "    <tr>\n",
       "      <th>3</th>\n",
       "      <td>ASSAULT 2,1,UNCLASSIFIED</td>\n",
       "      <td>11763</td>\n",
       "    </tr>\n",
       "    <tr>\n",
       "      <th>4</th>\n",
       "      <td>CONTROLLED SUBSTANCE, POSSESSION 7</td>\n",
       "      <td>9982</td>\n",
       "    </tr>\n",
       "  </tbody>\n",
       "</table>\n",
       "</div>"
      ],
      "text/plain": [
       "2018                                     pd_desc  count\n",
       "0                                      ASSAULT 3  26611\n",
       "1     LARCENY,PETIT FROM OPEN AREAS,UNCLASSIFIED  23405\n",
       "2                 TRAFFIC,UNCLASSIFIED MISDEMEAN  14856\n",
       "3                       ASSAULT 2,1,UNCLASSIFIED  11763\n",
       "4             CONTROLLED SUBSTANCE, POSSESSION 7   9982"
      ]
     },
     "execution_count": 66,
     "metadata": {},
     "output_type": "execute_result"
    }
   ],
   "source": [
    "df_top5_18 = etl.load_xtab_df(top5_2018, colindex_name=2018, idx_col=None)\n",
    "df_top5_18"
   ]
  },
  {
   "cell_type": "code",
   "execution_count": 67,
   "metadata": {},
   "outputs": [
    {
     "data": {
      "text/html": [
       "<div>\n",
       "<style scoped>\n",
       "    .dataframe tbody tr th:only-of-type {\n",
       "        vertical-align: middle;\n",
       "    }\n",
       "\n",
       "    .dataframe tbody tr th {\n",
       "        vertical-align: top;\n",
       "    }\n",
       "\n",
       "    .dataframe thead th {\n",
       "        text-align: right;\n",
       "    }\n",
       "</style>\n",
       "<table border=\"1\" class=\"dataframe\">\n",
       "  <thead>\n",
       "    <tr style=\"text-align: right;\">\n",
       "      <th>2015</th>\n",
       "      <th>pd_desc</th>\n",
       "      <th>count</th>\n",
       "    </tr>\n",
       "  </thead>\n",
       "  <tbody>\n",
       "    <tr>\n",
       "      <th>0</th>\n",
       "      <td>THEFT OF SERVICES, UNCLASSIFIED</td>\n",
       "      <td>29833</td>\n",
       "    </tr>\n",
       "    <tr>\n",
       "      <th>1</th>\n",
       "      <td>ASSAULT 3</td>\n",
       "      <td>27631</td>\n",
       "    </tr>\n",
       "    <tr>\n",
       "      <th>2</th>\n",
       "      <td>LARCENY,PETIT FROM OPEN AREAS,UNCLASSIFIED</td>\n",
       "      <td>25772</td>\n",
       "    </tr>\n",
       "    <tr>\n",
       "      <th>3</th>\n",
       "      <td>CONTROLLED SUBSTANCE, POSSESSION 7</td>\n",
       "      <td>17420</td>\n",
       "    </tr>\n",
       "    <tr>\n",
       "      <th>4</th>\n",
       "      <td>NY STATE LAWS,UNCLASSIFIED VIOLATION</td>\n",
       "      <td>16899</td>\n",
       "    </tr>\n",
       "  </tbody>\n",
       "</table>\n",
       "</div>"
      ],
      "text/plain": [
       "2015                                     pd_desc  count\n",
       "0                THEFT OF SERVICES, UNCLASSIFIED  29833\n",
       "1                                      ASSAULT 3  27631\n",
       "2     LARCENY,PETIT FROM OPEN AREAS,UNCLASSIFIED  25772\n",
       "3             CONTROLLED SUBSTANCE, POSSESSION 7  17420\n",
       "4           NY STATE LAWS,UNCLASSIFIED VIOLATION  16899"
      ]
     },
     "execution_count": 67,
     "metadata": {},
     "output_type": "execute_result"
    }
   ],
   "source": [
    "df_top5_15 = etl.load_xtab_df(top5_2015, colindex_name=2015, idx_col=None)\n",
    "df_top5_15"
   ]
  },
  {
   "cell_type": "raw",
   "metadata": {},
   "source": [
    "top5_evol_data = {}\n",
    "\n",
    "for yr in last4years:\n",
    "    recs = {}\n",
    "    for desc in df_top5_18.pd_desc:\n",
    "        y_msk = data['Year']==yr\n",
    "        #idx_y_msk = data[y_msk].index\n",
    "\n",
    "        desc_msk = data['pd_desc']==desc\n",
    "        #idx_desc_msk = data[desc_msk].index\n",
    "\n",
    "        idx_both = data[y_msk].index.intersection(data[desc_msk].index)\n",
    "\n",
    "        dg = (data.loc[idx_both, ['Year','pd_desc']]\n",
    "              .groupby('pd_desc')['Year'].count()[:5])\n",
    "        dg.index.name = None\n",
    "        dg.name = None\n",
    "        recs[dg.index.values[0]] = dg.values[0]\n",
    "\n",
    "    top5_evol_data[str(yr)] = recs\n",
    "    \n",
    "df_evol = pd.DataFrame(top5_evol_data)\n",
    "df_evol.sort_values(by='2018', ascending=False, inplace=True)\n",
    "df_evol.to_csv(top5_evol)\n",
    "df_evol"
   ]
  },
  {
   "cell_type": "markdown",
   "metadata": {},
   "source": [
    "#### How the Top 5 arrests in 2018 have evolved over the years (2015-2018):"
   ]
  },
  {
   "cell_type": "raw",
   "metadata": {},
   "source": [
    "# Add pct_diff & save in production folder\n",
    "df_evol = etl.load_xtab_df(top5_evol, idx_col=0)\n",
    "\n",
    "# Add pct diff over period (2018 - 2015)/2015\n",
    "dfT = df_evol.T\n",
    "dfT.loc['%change'] = [np.round((dfT.loc['2018', c] - dfT.loc['2015', c]) / dfT.loc['2015', c], 2) for c in dfT.columns]\n",
    "dfT.T.to_csv(top5_evol_final)\n",
    "\n",
    "df_evol = dfT.T\n",
    "df_evol.to_csv(top5_evol_final)"
   ]
  },
  {
   "cell_type": "code",
   "execution_count": 24,
   "metadata": {},
   "outputs": [
    {
     "data": {
      "text/plain": [
       "{'min_delta_desc': 'CONTROLLED SUBSTANCE, POSSESSION 7',\n",
       " 'min_delta': -0.43,\n",
       " 'max_delta_desc': 'TRAFFIC,UNCLASSIFIED MISDEMEAN',\n",
       " 'max_delta': 0.03,\n",
       " 'count_decreasing_delta': 4,\n",
       " 'count_delta_above_5pct': 2,\n",
       " 'min_std_desc': 'ASSAULT 2,1,UNCLASSIFIED',\n",
       " 'min_std': 160.02369616195386,\n",
       " 'max_std_desc': 'CONTROLLED SUBSTANCE, POSSESSION 7',\n",
       " 'max_std': 3138.0850848885534,\n",
       " 'min_max_std_fold': 20.0}"
      ]
     },
     "execution_count": 24,
     "metadata": {},
     "output_type": "execute_result"
    }
   ],
   "source": [
    "evol_stats = etl.get_evol_stats(top5_evol_final)\n",
    "evol_stats"
   ]
  },
  {
   "cell_type": "code",
   "execution_count": 26,
   "metadata": {},
   "outputs": [
    {
     "data": {
      "text/html": [
       "<div>\n",
       "<style scoped>\n",
       "    .dataframe tbody tr th:only-of-type {\n",
       "        vertical-align: middle;\n",
       "    }\n",
       "\n",
       "    .dataframe tbody tr th {\n",
       "        vertical-align: top;\n",
       "    }\n",
       "\n",
       "    .dataframe thead th {\n",
       "        text-align: right;\n",
       "    }\n",
       "</style>\n",
       "<table border=\"1\" class=\"dataframe\">\n",
       "  <thead>\n",
       "    <tr style=\"text-align: right;\">\n",
       "      <th></th>\n",
       "      <th>2015</th>\n",
       "      <th>2016</th>\n",
       "      <th>2017</th>\n",
       "      <th>2018</th>\n",
       "      <th>%change</th>\n",
       "    </tr>\n",
       "  </thead>\n",
       "  <tbody>\n",
       "    <tr>\n",
       "      <th>ASSAULT 3</th>\n",
       "      <td>27631.0</td>\n",
       "      <td>26961.0</td>\n",
       "      <td>26281.0</td>\n",
       "      <td>26611.0</td>\n",
       "      <td>-0.04</td>\n",
       "    </tr>\n",
       "    <tr>\n",
       "      <th>LARCENY,PETIT FROM OPEN AREAS,UNCLASSIFIED</th>\n",
       "      <td>25772.0</td>\n",
       "      <td>23871.0</td>\n",
       "      <td>23020.0</td>\n",
       "      <td>23405.0</td>\n",
       "      <td>-0.09</td>\n",
       "    </tr>\n",
       "    <tr>\n",
       "      <th>TRAFFIC,UNCLASSIFIED MISDEMEAN</th>\n",
       "      <td>14435.0</td>\n",
       "      <td>15231.0</td>\n",
       "      <td>16298.0</td>\n",
       "      <td>14856.0</td>\n",
       "      <td>0.03</td>\n",
       "    </tr>\n",
       "    <tr>\n",
       "      <th>ASSAULT 2,1,UNCLASSIFIED</th>\n",
       "      <td>12048.0</td>\n",
       "      <td>12127.0</td>\n",
       "      <td>11911.0</td>\n",
       "      <td>11763.0</td>\n",
       "      <td>-0.02</td>\n",
       "    </tr>\n",
       "    <tr>\n",
       "      <th>CONTROLLED SUBSTANCE, POSSESSION 7</th>\n",
       "      <td>17420.0</td>\n",
       "      <td>14177.0</td>\n",
       "      <td>12341.0</td>\n",
       "      <td>9982.0</td>\n",
       "      <td>-0.43</td>\n",
       "    </tr>\n",
       "  </tbody>\n",
       "</table>\n",
       "</div>"
      ],
      "text/plain": [
       "                                               2015     2016     2017  \\\n",
       "ASSAULT 3                                   27631.0  26961.0  26281.0   \n",
       "LARCENY,PETIT FROM OPEN AREAS,UNCLASSIFIED  25772.0  23871.0  23020.0   \n",
       "TRAFFIC,UNCLASSIFIED MISDEMEAN              14435.0  15231.0  16298.0   \n",
       "ASSAULT 2,1,UNCLASSIFIED                    12048.0  12127.0  11911.0   \n",
       "CONTROLLED SUBSTANCE, POSSESSION 7          17420.0  14177.0  12341.0   \n",
       "\n",
       "                                               2018  %change  \n",
       "ASSAULT 3                                   26611.0    -0.04  \n",
       "LARCENY,PETIT FROM OPEN AREAS,UNCLASSIFIED  23405.0    -0.09  \n",
       "TRAFFIC,UNCLASSIFIED MISDEMEAN              14856.0     0.03  \n",
       "ASSAULT 2,1,UNCLASSIFIED                    11763.0    -0.02  \n",
       "CONTROLLED SUBSTANCE, POSSESSION 7           9982.0    -0.43  "
      ]
     },
     "execution_count": 26,
     "metadata": {},
     "output_type": "execute_result"
    }
   ],
   "source": [
    "df_evol = etl.load_xtab_df(top5_evol_final)\n",
    "df_evol"
   ]
  },
  {
   "cell_type": "code",
   "execution_count": 22,
   "metadata": {},
   "outputs": [
    {
     "data": {
      "image/png": "[encoded data removed]",
      "text/plain": [
       "<Figure size 576x360 with 1 Axes>"
      ]
     },
     "metadata": {
      "needs_background": "light"
     },
     "output_type": "display_data"
    }
   ],
   "source": [
    "fig2 = DIR_IMG.joinpath(ID_Arrests + '_Top5_2018_evol.png')\n",
    "\n",
    "fsize = (8,5)\n",
    "fig, ax = plt.subplots(1, 1, figsize=fsize)\n",
    "\n",
    "# clip the delta_pct col, transpose & get bar plot\n",
    "df_evol_bar = df_evol.loc[:, df_evol.columns[:-1]].T\n",
    "\n",
    "bbox = (0.2, .92, 0.7, .1)\n",
    "#mode = 'expand'\n",
    "\n",
    "# bypass saving in func with savepic=False.\n",
    "# to fing out which padding works best in layout\n",
    "ax = etl.show_bar_plot(df_evol_bar, ax, fname=fig2, \n",
    "                       lgd_bbox=bbox, \n",
    "                       savepic=False, replace=True, alpha=0.85, width=.70);\n",
    "                       \n",
    "plt.tight_layout(pad=.8)\n",
    "etl.save_pic(plt, fname=fig2, transparent=True, replace=True)\n",
    "\n",
    "plt.show();"
   ]
  },
  {
   "cell_type": "code",
   "execution_count": 23,
   "metadata": {},
   "outputs": [
    {
     "data": {
      "image/png": "[encoded data removed]",
      "text/plain": [
       "<IPython.core.display.Image object>"
      ]
     },
     "execution_count": 23,
     "metadata": {},
     "output_type": "execute_result"
    }
   ],
   "source": [
    "Image(filename=fig2)"
   ]
  },
  {
   "cell_type": "markdown",
   "metadata": {},
   "source": [
    "## Evolution of all yearly Top5 arrests"
   ]
  },
  {
   "cell_type": "code",
   "execution_count": 25,
   "metadata": {},
   "outputs": [
    {
     "data": {
      "text/html": [
       "<div>\n",
       "<style scoped>\n",
       "    .dataframe tbody tr th:only-of-type {\n",
       "        vertical-align: middle;\n",
       "    }\n",
       "\n",
       "    .dataframe tbody tr th {\n",
       "        vertical-align: top;\n",
       "    }\n",
       "\n",
       "    .dataframe thead th {\n",
       "        text-align: right;\n",
       "    }\n",
       "</style>\n",
       "<table border=\"1\" class=\"dataframe\">\n",
       "  <thead>\n",
       "    <tr style=\"text-align: right;\">\n",
       "      <th></th>\n",
       "      <th>2015</th>\n",
       "      <th>2016</th>\n",
       "      <th>2017</th>\n",
       "      <th>2018</th>\n",
       "      <th>%change</th>\n",
       "    </tr>\n",
       "  </thead>\n",
       "  <tbody>\n",
       "    <tr>\n",
       "      <th>ASSAULT 3</th>\n",
       "      <td>27631.0</td>\n",
       "      <td>26961.0</td>\n",
       "      <td>26281.0</td>\n",
       "      <td>26611.0</td>\n",
       "      <td>-0.04</td>\n",
       "    </tr>\n",
       "    <tr>\n",
       "      <th>LARCENY,PETIT FROM OPEN AREAS,UNCLASSIFIED</th>\n",
       "      <td>25772.0</td>\n",
       "      <td>23871.0</td>\n",
       "      <td>23020.0</td>\n",
       "      <td>23405.0</td>\n",
       "      <td>-0.09</td>\n",
       "    </tr>\n",
       "    <tr>\n",
       "      <th>TRAFFIC,UNCLASSIFIED MISDEMEAN</th>\n",
       "      <td>14435.0</td>\n",
       "      <td>15231.0</td>\n",
       "      <td>16298.0</td>\n",
       "      <td>14856.0</td>\n",
       "      <td>0.03</td>\n",
       "    </tr>\n",
       "    <tr>\n",
       "      <th>ASSAULT 2,1,UNCLASSIFIED</th>\n",
       "      <td>12048.0</td>\n",
       "      <td>12127.0</td>\n",
       "      <td>11911.0</td>\n",
       "      <td>11763.0</td>\n",
       "      <td>-0.02</td>\n",
       "    </tr>\n",
       "    <tr>\n",
       "      <th>CONTROLLED SUBSTANCE, POSSESSION 7</th>\n",
       "      <td>17420.0</td>\n",
       "      <td>14177.0</td>\n",
       "      <td>12341.0</td>\n",
       "      <td>9982.0</td>\n",
       "      <td>-0.43</td>\n",
       "    </tr>\n",
       "  </tbody>\n",
       "</table>\n",
       "</div>"
      ],
      "text/plain": [
       "                                               2015     2016     2017  \\\n",
       "ASSAULT 3                                   27631.0  26961.0  26281.0   \n",
       "LARCENY,PETIT FROM OPEN AREAS,UNCLASSIFIED  25772.0  23871.0  23020.0   \n",
       "TRAFFIC,UNCLASSIFIED MISDEMEAN              14435.0  15231.0  16298.0   \n",
       "ASSAULT 2,1,UNCLASSIFIED                    12048.0  12127.0  11911.0   \n",
       "CONTROLLED SUBSTANCE, POSSESSION 7          17420.0  14177.0  12341.0   \n",
       "\n",
       "                                               2018  %change  \n",
       "ASSAULT 3                                   26611.0    -0.04  \n",
       "LARCENY,PETIT FROM OPEN AREAS,UNCLASSIFIED  23405.0    -0.09  \n",
       "TRAFFIC,UNCLASSIFIED MISDEMEAN              14856.0     0.03  \n",
       "ASSAULT 2,1,UNCLASSIFIED                    11763.0    -0.02  \n",
       "CONTROLLED SUBSTANCE, POSSESSION 7           9982.0    -0.43  "
      ]
     },
     "execution_count": 25,
     "metadata": {},
     "output_type": "execute_result"
    }
   ],
   "source": [
    "df_evol = etl.load_xtab_df(top5_evol_final)\n",
    "df_evol"
   ]
  },
  {
   "cell_type": "raw",
   "metadata": {},
   "source": [
    "df_fnames = [top5_2015, top5_2016, top5_2017, top5_2018]\n",
    "dflist = [pd.read_csv(fname) for fname in df_fnames]\n",
    "\n",
    "df_alltop5 = etl.combine_all_yearly_top5(dflist, last4years, top5_evol_rankings)\n",
    "df_alltop5"
   ]
  },
  {
   "cell_type": "code",
   "execution_count": 162,
   "metadata": {},
   "outputs": [
    {
     "data": {
      "text/markdown": [
       "<h4>There are 8 types of arrests appearing among the Top 5 yearly rankings.</h4>"
      ],
      "text/plain": [
       "<IPython.core.display.Markdown object>"
      ]
     },
     "execution_count": 162,
     "metadata": {},
     "output_type": "execute_result"
    },
    {
     "data": {
      "text/html": [
       "<style  type=\"text/css\" >\n",
       "    #T_e6517e36_5b17_11ea_8bf1_00155d01c50crow0_col0 {\n",
       "            color:  black;\n",
       "            font-weight:  normal;\n",
       "        }    #T_e6517e36_5b17_11ea_8bf1_00155d01c50crow0_col1 {\n",
       "            color:  black;\n",
       "            font-weight:  normal;\n",
       "        }    #T_e6517e36_5b17_11ea_8bf1_00155d01c50crow0_col2 {\n",
       "            color:  red;\n",
       "            font-weight:  bold;\n",
       "        }    #T_e6517e36_5b17_11ea_8bf1_00155d01c50crow0_col3 {\n",
       "            color:  red;\n",
       "            font-weight:  bold;\n",
       "        }    #T_e6517e36_5b17_11ea_8bf1_00155d01c50crow1_col0 {\n",
       "            color:  black;\n",
       "            font-weight:  normal;\n",
       "        }    #T_e6517e36_5b17_11ea_8bf1_00155d01c50crow1_col1 {\n",
       "            color:  black;\n",
       "            font-weight:  normal;\n",
       "        }    #T_e6517e36_5b17_11ea_8bf1_00155d01c50crow1_col2 {\n",
       "            color:  black;\n",
       "            font-weight:  normal;\n",
       "        }    #T_e6517e36_5b17_11ea_8bf1_00155d01c50crow1_col3 {\n",
       "            color:  black;\n",
       "            font-weight:  normal;\n",
       "        }    #T_e6517e36_5b17_11ea_8bf1_00155d01c50crow2_col0 {\n",
       "            color:  black;\n",
       "            font-weight:  normal;\n",
       "        }    #T_e6517e36_5b17_11ea_8bf1_00155d01c50crow2_col1 {\n",
       "            color:  black;\n",
       "            font-weight:  normal;\n",
       "        }    #T_e6517e36_5b17_11ea_8bf1_00155d01c50crow2_col2 {\n",
       "            color:  black;\n",
       "            font-weight:  normal;\n",
       "        }    #T_e6517e36_5b17_11ea_8bf1_00155d01c50crow2_col3 {\n",
       "            color:  black;\n",
       "            font-weight:  normal;\n",
       "        }    #T_e6517e36_5b17_11ea_8bf1_00155d01c50crow3_col0 {\n",
       "            color:  black;\n",
       "            font-weight:  normal;\n",
       "        }    #T_e6517e36_5b17_11ea_8bf1_00155d01c50crow3_col1 {\n",
       "            color:  black;\n",
       "            font-weight:  normal;\n",
       "        }    #T_e6517e36_5b17_11ea_8bf1_00155d01c50crow3_col2 {\n",
       "            color:  black;\n",
       "            font-weight:  normal;\n",
       "        }    #T_e6517e36_5b17_11ea_8bf1_00155d01c50crow3_col3 {\n",
       "            color:  black;\n",
       "            font-weight:  normal;\n",
       "        }    #T_e6517e36_5b17_11ea_8bf1_00155d01c50crow4_col0 {\n",
       "            color:  black;\n",
       "            font-weight:  normal;\n",
       "        }    #T_e6517e36_5b17_11ea_8bf1_00155d01c50crow4_col1 {\n",
       "            color:  black;\n",
       "            font-weight:  normal;\n",
       "        }    #T_e6517e36_5b17_11ea_8bf1_00155d01c50crow4_col2 {\n",
       "            color:  black;\n",
       "            font-weight:  normal;\n",
       "        }    #T_e6517e36_5b17_11ea_8bf1_00155d01c50crow4_col3 {\n",
       "            color:  black;\n",
       "            font-weight:  normal;\n",
       "        }    #T_e6517e36_5b17_11ea_8bf1_00155d01c50crow5_col0 {\n",
       "            color:  red;\n",
       "            font-weight:  bold;\n",
       "        }    #T_e6517e36_5b17_11ea_8bf1_00155d01c50crow5_col1 {\n",
       "            color:  red;\n",
       "            font-weight:  bold;\n",
       "        }    #T_e6517e36_5b17_11ea_8bf1_00155d01c50crow5_col2 {\n",
       "            color:  black;\n",
       "            font-weight:  normal;\n",
       "        }    #T_e6517e36_5b17_11ea_8bf1_00155d01c50crow5_col3 {\n",
       "            color:  black;\n",
       "            font-weight:  normal;\n",
       "        }    #T_e6517e36_5b17_11ea_8bf1_00155d01c50crow6_col0 {\n",
       "            color:  black;\n",
       "            font-weight:  normal;\n",
       "        }    #T_e6517e36_5b17_11ea_8bf1_00155d01c50crow6_col1 {\n",
       "            color:  black;\n",
       "            font-weight:  normal;\n",
       "        }    #T_e6517e36_5b17_11ea_8bf1_00155d01c50crow6_col2 {\n",
       "            color:  black;\n",
       "            font-weight:  normal;\n",
       "        }    #T_e6517e36_5b17_11ea_8bf1_00155d01c50crow6_col3 {\n",
       "            color:  black;\n",
       "            font-weight:  normal;\n",
       "        }    #T_e6517e36_5b17_11ea_8bf1_00155d01c50crow7_col0 {\n",
       "            color:  black;\n",
       "            font-weight:  normal;\n",
       "        }    #T_e6517e36_5b17_11ea_8bf1_00155d01c50crow7_col1 {\n",
       "            color:  black;\n",
       "            font-weight:  normal;\n",
       "        }    #T_e6517e36_5b17_11ea_8bf1_00155d01c50crow7_col2 {\n",
       "            color:  black;\n",
       "            font-weight:  normal;\n",
       "        }    #T_e6517e36_5b17_11ea_8bf1_00155d01c50crow7_col3 {\n",
       "            color:  black;\n",
       "            font-weight:  normal;\n",
       "        }</style><table id=\"T_e6517e36_5b17_11ea_8bf1_00155d01c50c\" ><thead>    <tr>        <th class=\"blank level0\" ></th>        <th class=\"col_heading level0 col0\" >2015</th>        <th class=\"col_heading level0 col1\" >2016</th>        <th class=\"col_heading level0 col2\" >2017</th>        <th class=\"col_heading level0 col3\" >2018</th>    </tr>    <tr>        <th class=\"index_name level0\" >Arrests description in any yearly Top 5 ranking</th>        <th class=\"blank\" ></th>        <th class=\"blank\" ></th>        <th class=\"blank\" ></th>        <th class=\"blank\" ></th>    </tr></thead><tbody>\n",
       "                <tr>\n",
       "                        <th id=\"T_e6517e36_5b17_11ea_8bf1_00155d01c50clevel0_row0\" class=\"row_heading level0 row0\" >ASSAULT 3</th>\n",
       "                        <td id=\"T_e6517e36_5b17_11ea_8bf1_00155d01c50crow0_col0\" class=\"data row0 col0\" >2nd:   27,631</td>\n",
       "                        <td id=\"T_e6517e36_5b17_11ea_8bf1_00155d01c50crow0_col1\" class=\"data row0 col1\" >2nd:   26,961</td>\n",
       "                        <td id=\"T_e6517e36_5b17_11ea_8bf1_00155d01c50crow0_col2\" class=\"data row0 col2\" >1st:   26,281</td>\n",
       "                        <td id=\"T_e6517e36_5b17_11ea_8bf1_00155d01c50crow0_col3\" class=\"data row0 col3\" >1st:   26,611</td>\n",
       "            </tr>\n",
       "            <tr>\n",
       "                        <th id=\"T_e6517e36_5b17_11ea_8bf1_00155d01c50clevel0_row1\" class=\"row_heading level0 row1\" >LARCENY,PETIT FROM OPEN AREAS,UNCLASSIFIED</th>\n",
       "                        <td id=\"T_e6517e36_5b17_11ea_8bf1_00155d01c50crow1_col0\" class=\"data row1 col0\" >3rd:   25,772</td>\n",
       "                        <td id=\"T_e6517e36_5b17_11ea_8bf1_00155d01c50crow1_col1\" class=\"data row1 col1\" >3rd:   23,871</td>\n",
       "                        <td id=\"T_e6517e36_5b17_11ea_8bf1_00155d01c50crow1_col2\" class=\"data row1 col2\" >2nd:   23,020</td>\n",
       "                        <td id=\"T_e6517e36_5b17_11ea_8bf1_00155d01c50crow1_col3\" class=\"data row1 col3\" >2nd:   23,405</td>\n",
       "            </tr>\n",
       "            <tr>\n",
       "                        <th id=\"T_e6517e36_5b17_11ea_8bf1_00155d01c50clevel0_row2\" class=\"row_heading level0 row2\" >TRAFFIC,UNCLASSIFIED MISDEMEAN</th>\n",
       "                        <td id=\"T_e6517e36_5b17_11ea_8bf1_00155d01c50crow2_col0\" class=\"data row2 col0\" ></td>\n",
       "                        <td id=\"T_e6517e36_5b17_11ea_8bf1_00155d01c50crow2_col1\" class=\"data row2 col1\" >5th:   15,231</td>\n",
       "                        <td id=\"T_e6517e36_5b17_11ea_8bf1_00155d01c50crow2_col2\" class=\"data row2 col2\" >5th:   16,298</td>\n",
       "                        <td id=\"T_e6517e36_5b17_11ea_8bf1_00155d01c50crow2_col3\" class=\"data row2 col3\" >3rd:   14,856</td>\n",
       "            </tr>\n",
       "            <tr>\n",
       "                        <th id=\"T_e6517e36_5b17_11ea_8bf1_00155d01c50clevel0_row3\" class=\"row_heading level0 row3\" >ASSAULT 2,1,UNCLASSIFIED</th>\n",
       "                        <td id=\"T_e6517e36_5b17_11ea_8bf1_00155d01c50crow3_col0\" class=\"data row3 col0\" ></td>\n",
       "                        <td id=\"T_e6517e36_5b17_11ea_8bf1_00155d01c50crow3_col1\" class=\"data row3 col1\" ></td>\n",
       "                        <td id=\"T_e6517e36_5b17_11ea_8bf1_00155d01c50crow3_col2\" class=\"data row3 col2\" ></td>\n",
       "                        <td id=\"T_e6517e36_5b17_11ea_8bf1_00155d01c50crow3_col3\" class=\"data row3 col3\" >4th:   11,763</td>\n",
       "            </tr>\n",
       "            <tr>\n",
       "                        <th id=\"T_e6517e36_5b17_11ea_8bf1_00155d01c50clevel0_row4\" class=\"row_heading level0 row4\" >CONTROLLED SUBSTANCE, POSSESSION 7</th>\n",
       "                        <td id=\"T_e6517e36_5b17_11ea_8bf1_00155d01c50crow4_col0\" class=\"data row4 col0\" >4th:   17,420</td>\n",
       "                        <td id=\"T_e6517e36_5b17_11ea_8bf1_00155d01c50crow4_col1\" class=\"data row4 col1\" ></td>\n",
       "                        <td id=\"T_e6517e36_5b17_11ea_8bf1_00155d01c50crow4_col2\" class=\"data row4 col2\" ></td>\n",
       "                        <td id=\"T_e6517e36_5b17_11ea_8bf1_00155d01c50crow4_col3\" class=\"data row4 col3\" >5th:   9,982</td>\n",
       "            </tr>\n",
       "            <tr>\n",
       "                        <th id=\"T_e6517e36_5b17_11ea_8bf1_00155d01c50clevel0_row5\" class=\"row_heading level0 row5\" >THEFT OF SERVICES, UNCLASSIFIED</th>\n",
       "                        <td id=\"T_e6517e36_5b17_11ea_8bf1_00155d01c50crow5_col0\" class=\"data row5 col0\" >1st:   29,833</td>\n",
       "                        <td id=\"T_e6517e36_5b17_11ea_8bf1_00155d01c50crow5_col1\" class=\"data row5 col1\" >1st:   27,234</td>\n",
       "                        <td id=\"T_e6517e36_5b17_11ea_8bf1_00155d01c50crow5_col2\" class=\"data row5 col2\" >3rd:   19,825</td>\n",
       "                        <td id=\"T_e6517e36_5b17_11ea_8bf1_00155d01c50crow5_col3\" class=\"data row5 col3\" ></td>\n",
       "            </tr>\n",
       "            <tr>\n",
       "                        <th id=\"T_e6517e36_5b17_11ea_8bf1_00155d01c50clevel0_row6\" class=\"row_heading level0 row6\" >MARIJUANA, POSSESSION 4 & 5</th>\n",
       "                        <td id=\"T_e6517e36_5b17_11ea_8bf1_00155d01c50crow6_col0\" class=\"data row6 col0\" ></td>\n",
       "                        <td id=\"T_e6517e36_5b17_11ea_8bf1_00155d01c50crow6_col1\" class=\"data row6 col1\" >4th:   18,117</td>\n",
       "                        <td id=\"T_e6517e36_5b17_11ea_8bf1_00155d01c50crow6_col2\" class=\"data row6 col2\" >4th:   17,964</td>\n",
       "                        <td id=\"T_e6517e36_5b17_11ea_8bf1_00155d01c50crow6_col3\" class=\"data row6 col3\" ></td>\n",
       "            </tr>\n",
       "            <tr>\n",
       "                        <th id=\"T_e6517e36_5b17_11ea_8bf1_00155d01c50clevel0_row7\" class=\"row_heading level0 row7\" >NY STATE LAWS,UNCLASSIFIED VIOLATION</th>\n",
       "                        <td id=\"T_e6517e36_5b17_11ea_8bf1_00155d01c50crow7_col0\" class=\"data row7 col0\" >5th:   16,899</td>\n",
       "                        <td id=\"T_e6517e36_5b17_11ea_8bf1_00155d01c50crow7_col1\" class=\"data row7 col1\" ></td>\n",
       "                        <td id=\"T_e6517e36_5b17_11ea_8bf1_00155d01c50crow7_col2\" class=\"data row7 col2\" ></td>\n",
       "                        <td id=\"T_e6517e36_5b17_11ea_8bf1_00155d01c50crow7_col3\" class=\"data row7 col3\" ></td>\n",
       "            </tr>\n",
       "    </tbody></table>"
      ],
      "text/plain": [
       "<pandas.io.formats.style.Styler at 0x2255e001b00>"
      ]
     },
     "metadata": {},
     "output_type": "display_data"
    }
   ],
   "source": [
    "df_top5_ranks = etl.load_xtab_df(top5_evol_rankings)\n",
    "\n",
    "n_common_desc = df_top5_ranks.shape[0]\n",
    "text = f'<h4>There are {n_common_desc} types of arrests appearing among the Top 5 yearly rankings.</h4>'\n",
    "Markdown(text)\n",
    "\n",
    "df_top5_ranks_styl = etl.top5_style(df_top5_ranks)\n",
    "display(df_top5_ranks_styl)"
   ]
  },
  {
   "cell_type": "markdown",
   "metadata": {},
   "source": [
    "---\n",
    "### Arrests per precincts:\n",
    "1. all years\n",
    "2. period years"
   ]
  },
  {
   "cell_type": "code",
   "execution_count": 329,
   "metadata": {},
   "outputs": [],
   "source": [
    "# problem recovering mutiindex df from csv:\n",
    "arrests_totals = DATA_READY.joinpath(ID_Arrests + '_precincts_arrests_tots.csv')\n",
    "\n",
    "# saved as pic for report:\n",
    "fig_arrests_tos = DIR_IMG.joinpath(ID_Arrests + '_arrests_totals.png')"
   ]
  },
  {
   "cell_type": "raw",
   "metadata": {},
   "source": [
    "# this will need data (whole dataset): output created\n",
    "\n",
    "def get_precincts_totals(fname):\n",
    "    # Precincts of interest, all years:\n",
    "    precs_IDs = [19, 73]\n",
    "\n",
    "    precs_IDs_count = [('all years', p, data[data['arrest_precinct'] == p].shape[0]) for p in precs_IDs]\n",
    "\n",
    "    # Precincts of interest, last 4 years:\n",
    "    msk = data['Year'] >= 2015\n",
    "    df = data[msk]\n",
    "\n",
    "    precs_IDs_count += [('last 4', p, df.loc[df['arrest_precinct'] == p].shape[0]) for p in precs_IDs]\n",
    "    precs_IDs_count += [('all years', 'all', data.shape[0])]\n",
    "    precs_IDs_count += [('last 4', 'all', df.shape[0])]\n",
    "\n",
    "    df = pd.DataFrame.from_records(precs_IDs_count, columns=['Period:','Precinct:','Arrests Totals'])\n",
    "    df = df.set_index(['Precinct:', 'Period:'])\n",
    "    df = df.unstack()\n",
    "    \n",
    "    df.to_csv(fname)\n",
    "    return df"
   ]
  },
  {
   "cell_type": "code",
   "execution_count": 359,
   "metadata": {},
   "outputs": [
    {
     "data": {
      "text/html": [
       "<style  type=\"text/css\" >\n",
       "</style><table id=\"T_63787f18_5b36_11ea_987e_00155d01c50c\" ><thead>    <tr>        <th class=\"blank level0\" ></th>        <th class=\"col_heading level0 col0\" colspan=2>Arrests Totals</th>    </tr>    <tr>        <th class=\"index_name level1\" >Period:</th>        <th class=\"col_heading level1 col0\" >all years</th>        <th class=\"col_heading level1 col1\" >last 4</th>    </tr>    <tr>        <th class=\"index_name level0\" >Precinct:</th>        <th class=\"blank\" ></th>        <th class=\"blank\" ></th>    </tr></thead><tbody>\n",
       "                <tr>\n",
       "                        <th id=\"T_63787f18_5b36_11ea_987e_00155d01c50clevel0_row0\" class=\"row_heading level0 row0\" >19</th>\n",
       "                        <td id=\"T_63787f18_5b36_11ea_987e_00155d01c50crow0_col0\" class=\"data row0 col0\" >40,996</td>\n",
       "                        <td id=\"T_63787f18_5b36_11ea_987e_00155d01c50crow0_col1\" class=\"data row0 col1\" >10,946</td>\n",
       "            </tr>\n",
       "            <tr>\n",
       "                        <th id=\"T_63787f18_5b36_11ea_987e_00155d01c50clevel0_row1\" class=\"row_heading level0 row1\" >73</th>\n",
       "                        <td id=\"T_63787f18_5b36_11ea_987e_00155d01c50crow1_col0\" class=\"data row1 col0\" >134,086</td>\n",
       "                        <td id=\"T_63787f18_5b36_11ea_987e_00155d01c50crow1_col1\" class=\"data row1 col1\" >28,500</td>\n",
       "            </tr>\n",
       "            <tr>\n",
       "                        <th id=\"T_63787f18_5b36_11ea_987e_00155d01c50clevel0_row2\" class=\"row_heading level0 row2\" >all</th>\n",
       "                        <td id=\"T_63787f18_5b36_11ea_987e_00155d01c50crow2_col0\" class=\"data row2 col0\" >4,798,119</td>\n",
       "                        <td id=\"T_63787f18_5b36_11ea_987e_00155d01c50crow2_col1\" class=\"data row2 col1\" >1,187,263</td>\n",
       "            </tr>\n",
       "    </tbody></table>"
      ],
      "text/plain": [
       "<pandas.io.formats.style.Styler at 0x2256257eb70>"
      ]
     },
     "execution_count": 359,
     "metadata": {},
     "output_type": "execute_result"
    }
   ],
   "source": [
    "df = get_precincts_totals(arrests_totals)  # done\n",
    "\n",
    "# HACK: saved as png, IMG/8h9b-rp9u_arrests_totals.png: CTL+ALT+PrtScr > Paint\n",
    "etl.big_int_style(df)"
   ]
  },
  {
   "cell_type": "code",
   "execution_count": 202,
   "metadata": {},
   "outputs": [
    {
     "data": {
      "text/plain": [
       "'If we think of arrests as a sample of total crime, is there more crime in precinct 19 (Upper East Side) than precinct 73 (Brownsville)?'"
      ]
     },
     "execution_count": 202,
     "metadata": {},
     "output_type": "execute_result"
    }
   ],
   "source": [
    "Questions['Q3']"
   ]
  },
  {
   "cell_type": "code",
   "execution_count": 399,
   "metadata": {},
   "outputs": [
    {
     "data": {
      "text/html": [
       "<div>\n",
       "<style scoped>\n",
       "    .dataframe tbody tr th:only-of-type {\n",
       "        vertical-align: middle;\n",
       "    }\n",
       "\n",
       "    .dataframe tbody tr th {\n",
       "        vertical-align: top;\n",
       "    }\n",
       "\n",
       "    .dataframe thead th {\n",
       "        text-align: right;\n",
       "    }\n",
       "</style>\n",
       "<table border=\"1\" class=\"dataframe\">\n",
       "  <thead>\n",
       "    <tr style=\"text-align: right;\">\n",
       "      <th></th>\n",
       "      <th>borough</th>\n",
       "      <th>cd_number</th>\n",
       "      <th>cd_name</th>\n",
       "      <th>pop_2010</th>\n",
       "    </tr>\n",
       "  </thead>\n",
       "  <tbody>\n",
       "    <tr>\n",
       "      <th>0</th>\n",
       "      <td>Manhattan</td>\n",
       "      <td>8</td>\n",
       "      <td>Upper East Side</td>\n",
       "      <td>219920</td>\n",
       "    </tr>\n",
       "    <tr>\n",
       "      <th>1</th>\n",
       "      <td>Brooklyn</td>\n",
       "      <td>16</td>\n",
       "      <td>Brownsville, Ocean Hill</td>\n",
       "      <td>86468</td>\n",
       "    </tr>\n",
       "  </tbody>\n",
       "</table>\n",
       "</div>"
      ],
      "text/plain": [
       "     borough  cd_number                  cd_name  pop_2010\n",
       "0  Manhattan          8          Upper East Side    219920\n",
       "1   Brooklyn         16  Brownsville, Ocean Hill     86468"
      ]
     },
     "execution_count": 399,
     "metadata": {},
     "output_type": "execute_result"
    }
   ],
   "source": [
    "df_pop = etl.load_xtab_df(pops)\n",
    "df_pop\n",
    "nyc_pop = 8175133\n",
    "# https://www1.nyc.gov/assets/planning/download/pdf/data-maps/nyc-population/census2010/pgrhc.pdf"
   ]
  },
  {
   "cell_type": "code",
   "execution_count": 362,
   "metadata": {},
   "outputs": [
    {
     "data": {
      "text/html": [
       "<div>\n",
       "<style scoped>\n",
       "    .dataframe tbody tr th:only-of-type {\n",
       "        vertical-align: middle;\n",
       "    }\n",
       "\n",
       "    .dataframe tbody tr th {\n",
       "        vertical-align: top;\n",
       "    }\n",
       "\n",
       "    .dataframe thead th {\n",
       "        text-align: right;\n",
       "    }\n",
       "</style>\n",
       "<table border=\"1\" class=\"dataframe\">\n",
       "  <thead>\n",
       "    <tr style=\"text-align: right;\">\n",
       "      <th></th>\n",
       "      <th>all years</th>\n",
       "      <th>last 4</th>\n",
       "    </tr>\n",
       "    <tr>\n",
       "      <th>Precincts</th>\n",
       "      <th></th>\n",
       "      <th></th>\n",
       "    </tr>\n",
       "  </thead>\n",
       "  <tbody>\n",
       "    <tr>\n",
       "      <th>19</th>\n",
       "      <td>40996.0</td>\n",
       "      <td>10946.0</td>\n",
       "    </tr>\n",
       "    <tr>\n",
       "      <th>73</th>\n",
       "      <td>134086.0</td>\n",
       "      <td>28500.0</td>\n",
       "    </tr>\n",
       "    <tr>\n",
       "      <th>all</th>\n",
       "      <td>4798119.0</td>\n",
       "      <td>1187263.0</td>\n",
       "    </tr>\n",
       "  </tbody>\n",
       "</table>\n",
       "</div>"
      ],
      "text/plain": [
       "           all years     last 4\n",
       "Precincts                      \n",
       "19           40996.0    10946.0\n",
       "73          134086.0    28500.0\n",
       "all        4798119.0  1187263.0"
      ]
     },
     "execution_count": 362,
     "metadata": {},
     "output_type": "execute_result"
    }
   ],
   "source": [
    "tots = etl.load_arrests_totals(arrests_totals)\n",
    "tots"
   ]
  },
  {
   "cell_type": "code",
   "execution_count": 391,
   "metadata": {},
   "outputs": [
    {
     "data": {
      "text/plain": [
       "Precincts\n",
       "19    0.234153\n",
       "73    0.765847\n",
       "Name: all years, dtype: float64"
      ]
     },
     "execution_count": 391,
     "metadata": {},
     "output_type": "execute_result"
    },
    {
     "data": {
      "text/plain": [
       "Precincts\n",
       "19    0.277493\n",
       "73    0.722507\n",
       "Name: last 4, dtype: float64"
      ]
     },
     "execution_count": 391,
     "metadata": {},
     "output_type": "execute_result"
    }
   ],
   "source": [
    "# tot for the 2 precincts:\n",
    "tot_2precs_all = tots['all years'].sum() - tots.loc['all', 'all years']\n",
    "tot_2precs_4y = tots['last 4'].sum() - tots.loc['all', 'last 4']\n",
    "\n",
    "pct_tot_arrests_all = tots.loc[['19','73'], 'all years'] / tot_2precs_all\n",
    "pct_tot_arrests_all\n",
    "pct_tot_arrests_4y = tots.loc[['19','73'], 'last 4'] / tot_2precs_4y\n",
    "pct_tot_arrests_4y"
   ]
  },
  {
   "cell_type": "code",
   "execution_count": 397,
   "metadata": {},
   "outputs": [
    {
     "data": {
      "text/plain": [
       "0    0.717783\n",
       "1    0.282217\n",
       "Name: pop_2010, dtype: float64"
      ]
     },
     "execution_count": 397,
     "metadata": {},
     "output_type": "execute_result"
    },
    {
     "data": {
      "text/plain": [
       "Precincts\n",
       "19    0.234153\n",
       "73    0.765847\n",
       "Name: all years, dtype: float64"
      ]
     },
     "execution_count": 397,
     "metadata": {},
     "output_type": "execute_result"
    }
   ],
   "source": [
    "pop_pct = df_pop.pop_2010/df_pop.pop_2010.sum()\n",
    "pop_pct\n",
    "pct_tot_arrests_all"
   ]
  },
  {
   "cell_type": "code",
   "execution_count": 383,
   "metadata": {},
   "outputs": [
    {
     "data": {
      "text/markdown": [
       "Precinct 19 accounts for less than 1% of all crimes and of those in the lastfour years (0.85% and 0.92%, respectively)<br> while the percentages for Precinct 79 are 2.79% and 2.40%, i.e. over twice as much. As the population of Community District 8, <br>where Precinct 19 resides, is slightly over 2.5 larger than that of CD 16, where Precinct 73 is located, this is not a population effect:<br>there is more crime in Precinct 73 than in Precinct 19."
      ],
      "text/plain": [
       "<IPython.core.display.Markdown object>"
      ]
     },
     "execution_count": 383,
     "metadata": {},
     "output_type": "execute_result"
    }
   ],
   "source": [
    "nyc_pop = 8175133\n",
    "# https://www1.nyc.gov/assets/planning/download/pdf/data-maps/nyc-population/census2010/pgrhc.pdf\n",
    "\n",
    "df_pop = etl.load_xtab_df(pops)\n",
    "tots = etl.load_arrests_totals(arrests_totals)\n",
    "tots\n",
    "\n",
    "p19_tot_all_pct = tots.loc['19', 'all years'] / tots.loc['all', 'all years']\n",
    "p19_tot_4y_pct = tots.loc['19', 'last 4'] / tots.loc['all', 'last 4']\n",
    "\n",
    "p73_tot_all_pct = tots.loc['73', 'all years'] / tots.loc['all', 'all years']\n",
    "p73_tot_4y_pct = tots.loc['73', 'last 4'] / tots.loc['all', 'last 4']\n",
    "\n",
    "p73_tot_all_pct/p19_tot_all_pct\n",
    "p73_tot_4y_pct/p19_tot_4y_pct\n",
    "\n",
    "pop19cd = df_pop.loc[0,'pop_2010']\n",
    "pop73cd = df_pop.loc[1,'pop_2010']\n",
    "pop19cd /pop73cd\n",
    "\n",
    "text = f'Precinct 19 accounts for less than 1% of all crimes and of those in the last'\n",
    "text += f'four years ({p19_tot_all_pct:.2%} and {p19_tot_4y_pct:.2%}, respectively)<br> while '\n",
    "text += f'the percentages for Precinct 79 are {p73_tot_all_pct:.2%} and {p73_tot_4y_pct:.2%}, '\n",
    "text += 'i.e. over twice as much. As the population of Community District 8, <br>where Precinct 19 resides, ' \n",
    "text += 'is slightly over 2.5 larger than that of CD 16, where Precinct 73 is located, this is not a population effect:<br>'\n",
    "text += 'there is more crime in Precinct 73 than in Precinct 19.'\n",
    "Markdown(text)"
   ]
  },
  {
   "cell_type": "code",
   "execution_count": 389,
   "metadata": {},
   "outputs": [
    {
     "data": {
      "text/plain": [
       "0    0.717783\n",
       "1    0.282217\n",
       "Name: pop_2010, dtype: float64"
      ]
     },
     "execution_count": 389,
     "metadata": {},
     "output_type": "execute_result"
    },
    {
     "data": {
      "text/plain": [
       "0    0.026901\n",
       "1    0.010577\n",
       "Name: pop_2010, dtype: float64"
      ]
     },
     "execution_count": 389,
     "metadata": {},
     "output_type": "execute_result"
    },
    {
     "data": {
      "text/plain": [
       "0.03747804469970091"
      ]
     },
     "execution_count": 389,
     "metadata": {},
     "output_type": "execute_result"
    }
   ],
   "source": [
    "df_pop.pop_2010/df_pop.pop_2010.sum()\n",
    "df_pop.pop_2010 / nyc_pop\n",
    "df_pop.pop_2010.sum() / nyc_pop"
   ]
  },
  {
   "cell_type": "code",
   "execution_count": 386,
   "metadata": {},
   "outputs": [
    {
     "data": {
      "text/plain": [
       "'Given the available data, what model would you build to predict crime to better allocate NYPD resources?'"
      ]
     },
     "execution_count": 386,
     "metadata": {},
     "output_type": "execute_result"
    }
   ],
   "source": [
    "Questions['Q4']"
   ]
  },
  {
   "cell_type": "code",
   "execution_count": 419,
   "metadata": {},
   "outputs": [
    {
     "data": {
      "text/markdown": [
       "  Predicitve crime modelling is an active area of research due to its data, design and ethical challenges.  \n",
       "These spatio-temporal models have stringent requirements for their effectiveness: For the purpose of allocating patrol officers to areas<br>\n",
       "in need in a timely fashion, the model would need to predict the locations (within a reasonable distance variability) _together with_ a long enough <br>\n",
       "\"time-ahead\" window. For instance a model capable of predicting crime hot-spot at the block level would be useless if it could not do so _at least_ <br>\n",
       "48 hours prior the predicted activity. As the _NYPD Arrests Data_ dataset does not have time data, other sources, such as 911 call logs, would be needed.<br>  \n",
       "Part of the data challenge is to decide which input data to use: while weather and \"crowd signals\" from social media are probably useful, the use of <br>\n",
       "socio-economic data may introduce bias.\n",
       "  The more varied the sources, the wider the skills needed to process and anlyze the data as they take many <br>\n",
       "forms: text, sound, video, etc.  Part of the modeling challenge is to identify which features are necessary to achieve a given goal. In this context, the <br>\n",
       "minimal type of information is location, date and time and the age-group distibutions (at the census tract level if possible) since the 24-44 age group <br>\n",
       "is the most represented in the dataset.  Whether the model is parametric (i.e. regression) or neural (machine learning), the first step is to establish a <br>\n",
       "baseline against which other models (issued from different feature selection, for example) will be rated."
      ],
      "text/plain": [
       "<IPython.core.display.Markdown object>"
      ]
     },
     "execution_count": 419,
     "metadata": {},
     "output_type": "execute_result"
    }
   ],
   "source": [
    "s = \"\"\"  Predicitve crime modelling is an active area of research due to its data, design and ethical challenges.  \n",
    "These spatio-temporal models have stringent requirements for their effectiveness: For the purpose of allocating patrol officers to areas<br>\n",
    "in need in a timely fashion, the model would need to predict the locations (within a reasonable distance variability) _together with_ a long enough <br>\n",
    "\"time-ahead\" window. For instance a model capable of predicting crime hot-spot at the block level would be useless if it could not do so _at least_ <br>\n",
    "48 hours prior the predicted activity. As the _NYPD Arrests Data_ dataset does not have time data, other sources, such as 911 call logs, would be needed.<br>  \n",
    "Part of the data challenge is to decide which input data to use: while weather and \"crowd signals\" from social media are probably useful, the use of <br>\n",
    "socio-economic data may introduce bias.\n",
    "  The more varied the sources, the wider the skills needed to process and anlyze the data as they take many <br>\n",
    "forms: text, sound, video, etc.  Part of the modeling challenge is to identify which features are necessary to achieve a given goal. In this context, the <br>\n",
    "minimal type of information is location, date and time and the age-group distibutions (at the census tract level if possible) since the 24-44 age group <br>\n",
    "is the most represented in the dataset.  Whether the model is parametric (i.e. regression) or neural (machine learning), the first step is to establish a <br>\n",
    "baseline against which other models (issued from different feature selection, for example) will be rated.\"\"\"\n",
    "Markdown(s)"
   ]
  },
  {
   "cell_type": "code",
   "execution_count": 408,
   "metadata": {},
   "outputs": [
    {
     "data": {
      "text/plain": [
       "267"
      ]
     },
     "execution_count": 408,
     "metadata": {},
     "output_type": "execute_result"
    }
   ],
   "source": [
    "len(s.split())"
   ]
  },
  {
   "cell_type": "code",
   "execution_count": null,
   "metadata": {},
   "outputs": [],
   "source": []
  },
  {
   "cell_type": "markdown",
   "metadata": {},
   "source": [
    "---"
   ]
  },
  {
   "cell_type": "raw",
   "metadata": {},
   "source": [
    "### test for html embedding styled xtab:  bootstrap css not working\n",
    "# 1: Save the styled dataframe:\n",
    "#    class: supposed to work w/bootstrap css\n",
    "\n",
    "MDxt_18_styled_html = MDxt_18_styled.set_table_attributes('class=\"table table-striped\"').render()\n",
    "\n",
    "MDxt_18_styled_html_page = DATA_INTERIM.joinpath(ID_Arrests + '_2018_xtab_styled.html')\n",
    "\n",
    "with open(MDxt_18_styled_html_page, 'w') as fh:\n",
    "    fh.write(MDxt_18_styled_html)\n",
    "    \n",
    "    \n",
    "# 2: Embed the file in an html page as iframe:\n",
    "\n",
    "html_page = DATA_INTERIM.joinpath(ID_Arrests + '_html_xtab_test.html')\n",
    "\n",
    "# style=\"width:100%; height=100%;position:fixed;border:none;\"></iframe>\n",
    "html_string = '''\n",
    "<html>\n",
    "    <head>\n",
    "        <link rel=\"stylesheet\" href=\"https://maxcdn.bootstrapcdn.com/bootstrap/3.3.1/css/bootstrap.min.css\">\n",
    "        <style>body{ margin:0 100; background:whitesmoke; }</style>\n",
    "    </head>\n",
    "    <body>\n",
    "        <h1>test for embedding df tables</h1>\n",
    "\n",
    "        <h2>Section 1:</h2>\n",
    "        <div width=600px width=500px>\n",
    "        <iframe \n",
    "         src=\"''' + MDxt_18_styled_html_page.as_uri() + '''\"\n",
    "         style=\"width:30%; height=100%;border:none;\">\n",
    "         </iframe>\n",
    "         </div>\n",
    "        <p><br>Some text here.</p>\n",
    "\n",
    "        <h2>Section 2: empty</h2>\n",
    "\n",
    "    </body>\n",
    "</html>'''\n",
    "\n",
    "with open(html_page, 'w') as fh:\n",
    "    fh.write(html_string)"
   ]
  },
  {
   "cell_type": "code",
   "execution_count": null,
   "metadata": {},
   "outputs": [],
   "source": [
    "#\"https://data.cityofnewyork.us/resource/8h9b-rp9u.csv?$select=count(ARREST_KEY),PD_DESC&$where=date_extract_y(ARREST_DATE)='2018'&$group=PD_DESC&$order=count(ARREST_KEY)%20DESC&$limit=5\")\n"
   ]
  }
 ],
 "metadata": {
  "kernelspec": {
   "display_name": "Python 3",
   "language": "python",
   "name": "python3"
  },
  "language_info": {
   "codemirror_mode": {
    "name": "ipython",
    "version": 3
   },
   "file_extension": ".py",
   "mimetype": "text/x-python",
   "name": "python",
   "nbconvert_exporter": "python",
   "pygments_lexer": "ipython3",
   "version": "3.6.7"
  }
 },
 "nbformat": 4,
 "nbformat_minor": 4
}
